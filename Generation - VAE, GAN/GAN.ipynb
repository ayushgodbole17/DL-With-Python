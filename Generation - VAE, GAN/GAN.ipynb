{
  "nbformat": 4,
  "nbformat_minor": 0,
  "metadata": {
    "colab": {
      "name": "gan.ipynb",
      "provenance": [],
      "collapsed_sections": []
    },
    "kernelspec": {
      "name": "python3",
      "display_name": "Python 3"
    },
    "language_info": {
      "name": "python"
    },
    "accelerator": "GPU",
    "gpuClass": "standard"
  },
  "cells": [
    {
      "cell_type": "code",
      "execution_count": 3,
      "metadata": {
        "colab": {
          "base_uri": "https://localhost:8080/"
        },
        "id": "B3vWgKkdJtCN",
        "outputId": "82301b99-23bd-4777-c40a-c2d81b9095da"
      },
      "outputs": [
        {
          "output_type": "stream",
          "name": "stdout",
          "text": [
            "/usr/local/lib/python3.7/dist-packages/gdown/cli.py:131: FutureWarning: Option `--id` was deprecated in version 4.3.1 and will be removed in 5.0. You don't need to pass it anymore to use a file ID.\n",
            "  category=FutureWarning,\n",
            "Downloading...\n",
            "From: https://drive.google.com/uc?id=1O7m1010EJjLE5QxLZiM9Fpjs7Oj6e684\n",
            "To: /content/celeba_gan/data.zip\n",
            "100% 1.44G/1.44G [00:23<00:00, 61.0MB/s]\n"
          ]
        }
      ],
      "source": [
        "!mkdir celeba_gan \n",
        "!gdown --id 1O7m1010EJjLE5QxLZiM9Fpjs7Oj6e684 -O celeba_gan/data.zip \n",
        "!unzip -qq celeba_gan/data.zip -d celeba_gan "
      ]
    },
    {
      "cell_type": "code",
      "source": [
        "from tensorflow import keras\n",
        "dataset = keras.utils.image_dataset_from_directory(\"celeba_gan\",\n",
        "                                             label_mode=None,\n",
        "                                             image_size=(64, 64),\n",
        "                                             batch_size=32,\n",
        "                                             smart_resize=True)\n",
        "\n",
        "dataset = dataset.map(lambda x: x/255.)\n"
      ],
      "metadata": {
        "colab": {
          "base_uri": "https://localhost:8080/"
        },
        "id": "gfMYQv5lOofT",
        "outputId": "6c4e8efa-c625-4805-91a9-34f0ed1cebf3"
      },
      "execution_count": 4,
      "outputs": [
        {
          "output_type": "stream",
          "name": "stdout",
          "text": [
            "Found 202599 files belonging to 1 classes.\n"
          ]
        }
      ]
    },
    {
      "cell_type": "code",
      "source": [
        "import matplotlib.pyplot as plt\n",
        "\n",
        "for x in dataset:\n",
        "  plt.axis('off')\n",
        "  plt.imshow((x.numpy()*255).astype('int32')[0])\n",
        "  break"
      ],
      "metadata": {
        "colab": {
          "base_uri": "https://localhost:8080/",
          "height": 248
        },
        "id": "uT28JwEmPlpu",
        "outputId": "6ea7ab33-e722-4574-8a2a-b26f1fd29e96"
      },
      "execution_count": 5,
      "outputs": [
        {
          "output_type": "display_data",
          "data": {
            "text/plain": [
              "<Figure size 432x288 with 1 Axes>"
            ],
            "image/png": "[encoded data removed]"
          },
          "metadata": {
            "needs_background": "light"
          }
        }
      ]
    },
    {
      "cell_type": "code",
      "source": [
        "from tensorflow.keras import layers\n",
        "\n",
        "discriminator = keras.Sequential(\n",
        "    [\n",
        "        keras.Input(shape=(64, 64, 3)),\n",
        "        layers.Conv2D(64, kernel_size=4, strides=2, padding='same'),\n",
        "        layers.LeakyReLU(alpha=0.2),\n",
        "        layers.Conv2D(128, kernel_size=4, strides=2, padding='same'),\n",
        "        layers.LeakyReLU(alpha=0.2),\n",
        "        layers.Conv2D(128, kernel_size=4, strides=2, padding='same'),\n",
        "        layers.LeakyReLU(alpha=0.2),\n",
        "        layers.Flatten(),\n",
        "        layers.Dropout(0.2),\n",
        "        layers.Dense(1, activation='sigmoid')\n",
        "    ],\n",
        "    name='discriminator'\n",
        ")\n",
        "\n",
        "\n",
        "discriminator.summary()"
      ],
      "metadata": {
        "colab": {
          "base_uri": "https://localhost:8080/"
        },
        "id": "lySPaSjWQKYi",
        "outputId": "010a7972-1a9c-4b34-c15e-03578d8b5278"
      },
      "execution_count": 6,
      "outputs": [
        {
          "output_type": "stream",
          "name": "stdout",
          "text": [
            "Model: \"discriminator\"\n",
            "_________________________________________________________________\n",
            " Layer (type)                Output Shape              Param #   \n",
            "=================================================================\n",
            " conv2d (Conv2D)             (None, 32, 32, 64)        3136      \n",
            "                                                                 \n",
            " leaky_re_lu (LeakyReLU)     (None, 32, 32, 64)        0         \n",
            "                                                                 \n",
            " conv2d_1 (Conv2D)           (None, 16, 16, 128)       131200    \n",
            "                                                                 \n",
            " leaky_re_lu_1 (LeakyReLU)   (None, 16, 16, 128)       0         \n",
            "                                                                 \n",
            " conv2d_2 (Conv2D)           (None, 8, 8, 128)         262272    \n",
            "                                                                 \n",
            " leaky_re_lu_2 (LeakyReLU)   (None, 8, 8, 128)         0         \n",
            "                                                                 \n",
            " flatten (Flatten)           (None, 8192)              0         \n",
            "                                                                 \n",
            " dropout (Dropout)           (None, 8192)              0         \n",
            "                                                                 \n",
            " dense (Dense)               (None, 1)                 8193      \n",
            "                                                                 \n",
            "=================================================================\n",
            "Total params: 404,801\n",
            "Trainable params: 404,801\n",
            "Non-trainable params: 0\n",
            "_________________________________________________________________\n"
          ]
        }
      ]
    },
    {
      "cell_type": "code",
      "source": [
        "latent_dim = 128\n",
        "\n",
        "generator = keras.Sequential(\n",
        "    [\n",
        "        keras.Input(shape=(latent_dim,)),\n",
        "        layers.Dense(8*8*128), \n",
        "        layers.Reshape((8,8,128)),\n",
        "        layers.Conv2DTranspose(128, kernel_size=4, strides=2, padding=\"same\"),\n",
        "        layers.LeakyReLU(alpha=0.2), \n",
        "        layers.Conv2DTranspose(256, kernel_size=4, strides=2, padding=\"same\"),\n",
        "        layers.LeakyReLU(alpha=0.2), \n",
        "        layers.Conv2DTranspose(512, kernel_size=4, strides=2, padding=\"same\"),\n",
        "        layers.LeakyReLU(alpha=0.2), \n",
        "        layers.Conv2D(3, kernel_size=5, padding=\"same\", activation=\"sigmoid\"),\n",
        "    ],\n",
        "    name=\"generator\"\n",
        ")\n",
        "\n",
        "\n",
        "generator.summary()"
      ],
      "metadata": {
        "colab": {
          "base_uri": "https://localhost:8080/"
        },
        "id": "aMUd_zK_Q6be",
        "outputId": "3c9baf46-65c7-4ee1-d05a-438100997fb5"
      },
      "execution_count": 7,
      "outputs": [
        {
          "output_type": "stream",
          "name": "stdout",
          "text": [
            "Model: \"generator\"\n",
            "_________________________________________________________________\n",
            " Layer (type)                Output Shape              Param #   \n",
            "=================================================================\n",
            " dense_1 (Dense)             (None, 8192)              1056768   \n",
            "                                                                 \n",
            " reshape (Reshape)           (None, 8, 8, 128)         0         \n",
            "                                                                 \n",
            " conv2d_transpose (Conv2DTra  (None, 16, 16, 128)      262272    \n",
            " nspose)                                                         \n",
            "                                                                 \n",
            " leaky_re_lu_3 (LeakyReLU)   (None, 16, 16, 128)       0         \n",
            "                                                                 \n",
            " conv2d_transpose_1 (Conv2DT  (None, 32, 32, 256)      524544    \n",
            " ranspose)                                                       \n",
            "                                                                 \n",
            " leaky_re_lu_4 (LeakyReLU)   (None, 32, 32, 256)       0         \n",
            "                                                                 \n",
            " conv2d_transpose_2 (Conv2DT  (None, 64, 64, 512)      2097664   \n",
            " ranspose)                                                       \n",
            "                                                                 \n",
            " leaky_re_lu_5 (LeakyReLU)   (None, 64, 64, 512)       0         \n",
            "                                                                 \n",
            " conv2d_3 (Conv2D)           (None, 64, 64, 3)         38403     \n",
            "                                                                 \n",
            "=================================================================\n",
            "Total params: 3,979,651\n",
            "Trainable params: 3,979,651\n",
            "Non-trainable params: 0\n",
            "_________________________________________________________________\n"
          ]
        }
      ]
    },
    {
      "cell_type": "code",
      "source": [
        "import tensorflow as tf\n",
        "\n",
        "import tensorflow as tf\n",
        "class GAN(keras.Model):\n",
        " def __init__(self, discriminator, generator, latent_dim):\n",
        "  super().__init__()\n",
        "  self.discriminator = discriminator\n",
        "  self.generator = generator\n",
        "  self.latent_dim = latent_dim\n",
        "  self.d_loss_metric = keras.metrics.Mean(name=\"d_loss\") \n",
        "  self.g_loss_metric = keras.metrics.Mean(name=\"g_loss\") \n",
        "\n",
        " def compile(self, d_optimizer, g_optimizer, loss_fn):\n",
        "  super(GAN, self).compile()\n",
        "  self.d_optimizer = d_optimizer\n",
        "  self.g_optimizer = g_optimizer\n",
        "  self.loss_fn = loss_fn\n",
        "\n",
        " @property\n",
        " def metrics(self): \n",
        "  return [self.d_loss_metric, self.g_loss_metric]\n",
        "\n",
        " def train_step(self, real_images):\n",
        "  batch_size = tf.shape(real_images)[0] \n",
        "  random_latent_vectors = tf.random.normal( \n",
        "  shape=(batch_size, self.latent_dim)) \n",
        "  generated_images = self.generator(random_latent_vectors) \n",
        "  combined_images = tf.concat([generated_images, real_images], axis=0)\n",
        "  labels = tf.concat([tf.ones((batch_size, 1)), tf.zeros((batch_size, 1))], axis=0 )\n",
        "  labels += 0.05 * tf.random.uniform(tf.shape(labels)) \n",
        "  \n",
        "  with tf.GradientTape() as tape: \n",
        "    predictions = self.discriminator(combined_images) \n",
        "    d_loss = self.loss_fn(labels, predictions) \n",
        "  \n",
        "  grads = tape.gradient(d_loss, self.discriminator.trainable_weights)\n",
        "  self.d_optimizer.apply_gradients(zip(grads, self.discriminator.trainable_weights))\n",
        "  random_latent_vectors = tf.random.normal(\n",
        "  shape=(batch_size, self.latent_dim)) \n",
        "  misleading_labels = tf.zeros((batch_size, 1)) \n",
        "  \n",
        "  with tf.GradientTape() as tape: \n",
        "    predictions = self.discriminator(self.generator(random_latent_vectors)) \n",
        "    g_loss = self.loss_fn(misleading_labels, predictions) \n",
        "  \n",
        "  grads = tape.gradient(g_loss, self.generator.trainable_weights) \n",
        "  \n",
        "  self.g_optimizer.apply_gradients(zip(grads, self.generator.trainable_weights)) \n",
        "  self.d_loss_metric.update_state(d_loss)\n",
        "  self.g_loss_metric.update_state(g_loss)\n",
        "  return {\"d_loss\": self.d_loss_metric.result(),\n",
        "  \"g_loss\": self.g_loss_metric.result()}"
      ],
      "metadata": {
        "id": "vdHN0bCeR8AR"
      },
      "execution_count": 8,
      "outputs": []
    },
    {
      "cell_type": "code",
      "source": [
        "class GANMonitor(keras.callbacks.Callback):\n",
        " def __init__(self, num_img=3, latent_dim=128):\n",
        "  self.num_img = num_img\n",
        "  self.latent_dim = latent_dim\n",
        " def on_epoch_end(self, epoch, logs=None):\n",
        "  random_latent_vectors = tf.random.normal(\n",
        "  shape=(self.num_img, self.latent_dim))\n",
        "  generated_images = self.model.generator(random_latent_vectors)\n",
        "  generated_images *= 255\n",
        "  generated_images.numpy()\n",
        "\n",
        "  for i in range(self.num_img):\n",
        "    img = keras.utils.array_to_img(generated_images[i])\n",
        "    img.save(f\"generated_img_{epoch:03d}_{i}.png\")"
      ],
      "metadata": {
        "id": "1645Vfuuc3M4"
      },
      "execution_count": 9,
      "outputs": []
    },
    {
      "cell_type": "code",
      "source": [
        "epochs = 5\n",
        "\n",
        "gan = GAN(generator=generator, discriminator=discriminator, latent_dim=latent_dim)\n",
        "\n",
        "gan.compile(\n",
        "  d_optimizer=keras.optimizers.Adam(learning_rate=0.0001),\n",
        "  g_optimizer=keras.optimizers.Adam(learning_rate=0.0001),\n",
        "  loss_fn=keras.losses.BinaryCrossentropy(),\n",
        ")\n",
        "     \n",
        "gan.fit(\n",
        " dataset, \n",
        " epochs=epochs,\n",
        " callbacks=[GANMonitor(num_img=10, latent_dim=latent_dim)]\n",
        ")"
      ],
      "metadata": {
        "colab": {
          "base_uri": "https://localhost:8080/"
        },
        "id": "6rxAK9_neBEd",
        "outputId": "3c0473f4-9aaa-4c55-d0e9-305b70da72d3"
      },
      "execution_count": null,
      "outputs": [
        {
          "output_type": "stream",
          "name": "stdout",
          "text": [
            "Epoch 1/2\n",
            "6332/6332 [==============================] - 1998s 313ms/step - d_loss: 0.6146 - g_loss: 1.1744\n",
            "Epoch 2/2\n",
            "3843/6332 [=================>............] - ETA: 13:00 - d_loss: 0.6622 - g_loss: 1.0672"
          ]
        }
      ]
    },
    {
      "cell_type": "code",
      "source": [
        ""
      ],
      "metadata": {
        "id": "-jOqyqWKeVYc"
      },
      "execution_count": null,
      "outputs": []
    }
  ]
}