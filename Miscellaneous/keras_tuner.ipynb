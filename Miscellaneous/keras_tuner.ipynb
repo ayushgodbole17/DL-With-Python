{
  "nbformat": 4,
  "nbformat_minor": 0,
  "metadata": {
    "colab": {
      "name": "keras-tuner.ipynb",
      "provenance": [],
      "collapsed_sections": []
    },
    "kernelspec": {
      "name": "python3",
      "display_name": "Python 3"
    },
    "language_info": {
      "name": "python"
    },
    "accelerator": "GPU",
    "gpuClass": "standard"
  },
  "cells": [
    {
      "cell_type": "code",
      "execution_count": 1,
      "metadata": {
        "id": "DlnoTBeOxRxB"
      },
      "outputs": [],
      "source": [
        "!pip install keras-tuner -q"
      ]
    },
    {
      "cell_type": "code",
      "source": [
        "from tensorflow import keras\n",
        "from tensorflow.keras import layers"
      ],
      "metadata": {
        "id": "L9eeCuJsxVzo"
      },
      "execution_count": 2,
      "outputs": []
    },
    {
      "cell_type": "code",
      "source": [
        "def build_model(hp):\n",
        "  units = hp.Int(name=\"units\", min_value=16, max_value=64, step=16)\n",
        "  model = keras.Sequential([\n",
        "      layers.Dense(units, activation='relu'),\n",
        "      layers.Dense(10, activation='softmax')\n",
        "  ])\n",
        "  optimizer = hp.Choice(name='optimizer', values=['rmsprop', 'adam'])\n",
        "  model.compile(optimizer=optimizer, loss='sparse_categorical_crossentropy', metrics=['accuracy'])\n",
        "  return model"
      ],
      "metadata": {
        "id": "W27QYFMhxeAJ"
      },
      "execution_count": 3,
      "outputs": []
    },
    {
      "cell_type": "code",
      "source": [
        "#Creating a KerasTuner Hyper Model\n",
        "\n",
        "import keras_tuner as kt\n",
        "\n",
        "class SimpleMLP(kt.HyperModel):\n",
        "  def __init__(self, num_classes):\n",
        "    self.num_classes = num_classes\n",
        "\n",
        "  def build(self, hp):\n",
        "    units = hp.Int(name=\"units\", min_value=16, max_value=64, step=16)\n",
        "    model = keras.Sequential([\n",
        "        layers.Dense(units, activation='relu'),\n",
        "        layers.Dense(self.num_classes, activation='softmax')\n",
        "    ])\n",
        "    optimizer = hp.choice(name='optimizer', values=['rmsprop', 'adam'])\n",
        "    model.compile(optimizer=optimizer, loss='sparse_categorical_crossentropy', metrics=['accuracy'])\n",
        "    return model"
      ],
      "metadata": {
        "id": "WEACvc3VyJxl"
      },
      "execution_count": 4,
      "outputs": []
    },
    {
      "cell_type": "code",
      "source": [
        "hypermodel = SimpleMLP(10)"
      ],
      "metadata": {
        "id": "6r5KuHnxzR6Y"
      },
      "execution_count": 5,
      "outputs": []
    },
    {
      "cell_type": "code",
      "source": [
        "tuner = kt.BayesianOptimization(build_model, \n",
        "                                objective='val_accuracy',\n",
        "                                max_trials=25,\n",
        "                                executions_per_trial=2,\n",
        "                                directory='mnist_kl_dataset',\n",
        "                                overwrite=True)"
      ],
      "metadata": {
        "id": "MoOGTfjfzdMO"
      },
      "execution_count": 6,
      "outputs": []
    },
    {
      "cell_type": "code",
      "source": [
        "tuner.search_space_summary()"
      ],
      "metadata": {
        "colab": {
          "base_uri": "https://localhost:8080/"
        },
        "id": "NUApUvAh0AbI",
        "outputId": "fd139788-5525-4202-f855-ce35f637a7a3"
      },
      "execution_count": 7,
      "outputs": [
        {
          "output_type": "stream",
          "name": "stdout",
          "text": [
            "Search space summary\n",
            "Default search space size: 2\n",
            "units (Int)\n",
            "{'default': None, 'conditions': [], 'min_value': 16, 'max_value': 64, 'step': 16, 'sampling': None}\n",
            "optimizer (Choice)\n",
            "{'default': 'rmsprop', 'conditions': [], 'values': ['rmsprop', 'adam'], 'ordered': False}\n"
          ]
        }
      ]
    },
    {
      "cell_type": "code",
      "source": [
        "(x_train, y_train), (x_test, y_test) = keras.datasets.mnist.load_data()\n",
        "x_train = x_train.reshape((-1, 28 * 28)).astype(\"float32\") / 255\n",
        "x_test = x_test.reshape((-1, 28 * 28)).astype(\"float32\") / 255\n",
        "x_train_full = x_train[:] \n",
        "y_train_full = y_train[:] "
      ],
      "metadata": {
        "id": "qevaCj7O0T9F"
      },
      "execution_count": 8,
      "outputs": []
    },
    {
      "cell_type": "code",
      "source": [
        "num_val_samples = 10000 \n",
        "\n",
        "x_train, x_val = x_train[:-num_val_samples], x_train[-num_val_samples:] \n",
        "y_train, y_val = y_train[:-num_val_samples], y_train[-num_val_samples:] \n",
        "\n",
        "callbacks = [keras.callbacks.EarlyStopping(monitor=\"val_loss\", patience=5)]\n",
        "tuner.search(x_train, y_train,\n",
        "             batch_size=128,\n",
        "             epochs=25, \n",
        "             validation_data=(x_val, y_val),\n",
        "             callbacks=callbacks,\n",
        "            verbose=2)"
      ],
      "metadata": {
        "colab": {
          "base_uri": "https://localhost:8080/"
        },
        "id": "FwXjpYBs0cdE",
        "outputId": "388663ac-3fea-458c-ea40-652e0de6845b"
      },
      "execution_count": 9,
      "outputs": [
        {
          "output_type": "stream",
          "name": "stdout",
          "text": [
            "Trial 100 Complete [00h 00m 45s]\n",
            "val_accuracy: 0.9740999937057495\n",
            "\n",
            "Best val_accuracy So Far: 0.9760499894618988\n",
            "Total elapsed time: 01h 45m 25s\n",
            "INFO:tensorflow:Oracle triggered exit\n"
          ]
        }
      ]
    },
    {
      "cell_type": "code",
      "source": [
        "best_hps = tuner.get_best_hyperparameters(4)\n",
        "best_hps"
      ],
      "metadata": {
        "colab": {
          "base_uri": "https://localhost:8080/"
        },
        "id": "kcYwpEdg_LmO",
        "outputId": "29825e53-13a8-433d-b04b-522ed4c512cb"
      },
      "execution_count": 12,
      "outputs": [
        {
          "output_type": "execute_result",
          "data": {
            "text/plain": [
              "[<keras_tuner.engine.hyperparameters.HyperParameters at 0x7fdfde5e8a50>,\n",
              " <keras_tuner.engine.hyperparameters.HyperParameters at 0x7fdfde6084d0>,\n",
              " <keras_tuner.engine.hyperparameters.HyperParameters at 0x7fdfdee0da90>,\n",
              " <keras_tuner.engine.hyperparameters.HyperParameters at 0x7fdfdf551110>]"
            ]
          },
          "metadata": {},
          "execution_count": 12
        }
      ]
    },
    {
      "cell_type": "code",
      "source": [
        "def get_best_epoch(hp):\n",
        "  model = build_model(hp)\n",
        "  callbacks = [keras.callbacks.EarlyStopping(monitor='val_loss', mode='min', patience=10)]\n",
        "  history = model.fit(x_train, y_train,\n",
        "                      validation_data=(x_val, y_val),\n",
        "                      epochs=25,\n",
        "                      batch_size=64,\n",
        "                      callbacks=callbacks)\n",
        "  \n",
        "  val_loss_per_epoch = history.history['val_loss']\n",
        "  best_epoch = val_loss_per_epoch.index(min(val_loss_per_epoch)) + 1\n",
        "  print(f\"Best epoch: {best_epoch}\")\n",
        "  return best_epoch"
      ],
      "metadata": {
        "id": "Hj6249dD_X0-"
      },
      "execution_count": 13,
      "outputs": []
    },
    {
      "cell_type": "code",
      "source": [
        "def get_best_trained_model(hp):\n",
        "  best_epoch = get_best_epoch(hp)\n",
        "  model = build_model(hp)\n",
        "  model.fit(x_train_full, y_train_full, batch_size=64, epochs=(int(best_epoch*1.2)))\n",
        "  return model\n",
        "\n",
        "best_models = []\n",
        "for hp in best_hps:\n",
        " model = get_best_trained_model(hp)\n",
        " model.evaluate(x_test, y_test)\n",
        " best_models.append(model)"
      ],
      "metadata": {
        "colab": {
          "base_uri": "https://localhost:8080/"
        },
        "id": "1b3PIuV3Aahy",
        "outputId": "b61e8f6f-fad2-40a1-ab58-a907e1f63ddc"
      },
      "execution_count": 15,
      "outputs": [
        {
          "output_type": "stream",
          "name": "stdout",
          "text": [
            "Epoch 1/25\n",
            "782/782 [==============================] - 3s 3ms/step - loss: 0.3941 - accuracy: 0.8908 - val_loss: 0.2131 - val_accuracy: 0.9406\n",
            "Epoch 2/25\n",
            "782/782 [==============================] - 2s 3ms/step - loss: 0.1995 - accuracy: 0.9422 - val_loss: 0.1687 - val_accuracy: 0.9522\n",
            "Epoch 3/25\n",
            "782/782 [==============================] - 2s 3ms/step - loss: 0.1504 - accuracy: 0.9565 - val_loss: 0.1352 - val_accuracy: 0.9622\n",
            "Epoch 4/25\n",
            "782/782 [==============================] - 2s 3ms/step - loss: 0.1209 - accuracy: 0.9649 - val_loss: 0.1248 - val_accuracy: 0.9630\n",
            "Epoch 5/25\n",
            "782/782 [==============================] - 2s 3ms/step - loss: 0.1025 - accuracy: 0.9706 - val_loss: 0.1151 - val_accuracy: 0.9659\n",
            "Epoch 6/25\n",
            "782/782 [==============================] - 2s 3ms/step - loss: 0.0867 - accuracy: 0.9742 - val_loss: 0.1084 - val_accuracy: 0.9680\n",
            "Epoch 7/25\n",
            "782/782 [==============================] - 2s 3ms/step - loss: 0.0752 - accuracy: 0.9779 - val_loss: 0.1002 - val_accuracy: 0.9711\n",
            "Epoch 8/25\n",
            "782/782 [==============================] - 2s 3ms/step - loss: 0.0650 - accuracy: 0.9811 - val_loss: 0.0992 - val_accuracy: 0.9714\n",
            "Epoch 9/25\n",
            "782/782 [==============================] - 2s 3ms/step - loss: 0.0566 - accuracy: 0.9834 - val_loss: 0.0999 - val_accuracy: 0.9704\n",
            "Epoch 10/25\n",
            "782/782 [==============================] - 2s 3ms/step - loss: 0.0501 - accuracy: 0.9854 - val_loss: 0.0987 - val_accuracy: 0.9718\n",
            "Epoch 11/25\n",
            "782/782 [==============================] - 2s 3ms/step - loss: 0.0441 - accuracy: 0.9874 - val_loss: 0.0945 - val_accuracy: 0.9722\n",
            "Epoch 12/25\n",
            "782/782 [==============================] - 2s 3ms/step - loss: 0.0392 - accuracy: 0.9886 - val_loss: 0.0977 - val_accuracy: 0.9715\n",
            "Epoch 13/25\n",
            "782/782 [==============================] - 2s 3ms/step - loss: 0.0342 - accuracy: 0.9905 - val_loss: 0.0941 - val_accuracy: 0.9739\n",
            "Epoch 14/25\n",
            "782/782 [==============================] - 2s 3ms/step - loss: 0.0309 - accuracy: 0.9908 - val_loss: 0.1028 - val_accuracy: 0.9713\n",
            "Epoch 15/25\n",
            "782/782 [==============================] - 2s 3ms/step - loss: 0.0267 - accuracy: 0.9925 - val_loss: 0.0969 - val_accuracy: 0.9737\n",
            "Epoch 16/25\n",
            "782/782 [==============================] - 2s 3ms/step - loss: 0.0243 - accuracy: 0.9931 - val_loss: 0.1067 - val_accuracy: 0.9719\n",
            "Epoch 17/25\n",
            "782/782 [==============================] - 2s 3ms/step - loss: 0.0207 - accuracy: 0.9947 - val_loss: 0.1011 - val_accuracy: 0.9738\n",
            "Epoch 18/25\n",
            "782/782 [==============================] - 2s 3ms/step - loss: 0.0185 - accuracy: 0.9952 - val_loss: 0.1118 - val_accuracy: 0.9717\n",
            "Epoch 19/25\n",
            "782/782 [==============================] - 2s 3ms/step - loss: 0.0159 - accuracy: 0.9961 - val_loss: 0.1258 - val_accuracy: 0.9685\n",
            "Epoch 20/25\n",
            "782/782 [==============================] - 2s 3ms/step - loss: 0.0161 - accuracy: 0.9956 - val_loss: 0.1098 - val_accuracy: 0.9709\n",
            "Epoch 21/25\n",
            "782/782 [==============================] - 2s 3ms/step - loss: 0.0132 - accuracy: 0.9965 - val_loss: 0.1094 - val_accuracy: 0.9723\n",
            "Epoch 22/25\n",
            "782/782 [==============================] - 2s 3ms/step - loss: 0.0112 - accuracy: 0.9974 - val_loss: 0.1069 - val_accuracy: 0.9730\n",
            "Epoch 23/25\n",
            "782/782 [==============================] - 2s 3ms/step - loss: 0.0096 - accuracy: 0.9981 - val_loss: 0.1141 - val_accuracy: 0.9730\n",
            "Best epoch: 13\n",
            "Epoch 1/15\n",
            "938/938 [==============================] - 3s 2ms/step - loss: 0.3424 - accuracy: 0.9046\n",
            "Epoch 2/15\n",
            "938/938 [==============================] - 2s 2ms/step - loss: 0.1704 - accuracy: 0.9514\n",
            "Epoch 3/15\n",
            "938/938 [==============================] - 2s 2ms/step - loss: 0.1277 - accuracy: 0.9633\n",
            "Epoch 4/15\n",
            "938/938 [==============================] - 2s 2ms/step - loss: 0.1025 - accuracy: 0.9701\n",
            "Epoch 5/15\n",
            "938/938 [==============================] - 2s 2ms/step - loss: 0.0851 - accuracy: 0.9750\n",
            "Epoch 6/15\n",
            "938/938 [==============================] - 2s 2ms/step - loss: 0.0719 - accuracy: 0.9787\n",
            "Epoch 7/15\n",
            "938/938 [==============================] - 2s 2ms/step - loss: 0.0624 - accuracy: 0.9809\n",
            "Epoch 8/15\n",
            "938/938 [==============================] - 2s 2ms/step - loss: 0.0541 - accuracy: 0.9840\n",
            "Epoch 9/15\n",
            "938/938 [==============================] - 2s 2ms/step - loss: 0.0469 - accuracy: 0.9859\n",
            "Epoch 10/15\n",
            "938/938 [==============================] - 2s 2ms/step - loss: 0.0414 - accuracy: 0.9877\n",
            "Epoch 11/15\n",
            "938/938 [==============================] - 2s 2ms/step - loss: 0.0357 - accuracy: 0.9898\n",
            "Epoch 12/15\n",
            "938/938 [==============================] - 2s 2ms/step - loss: 0.0320 - accuracy: 0.9909\n",
            "Epoch 13/15\n",
            "938/938 [==============================] - 2s 2ms/step - loss: 0.0286 - accuracy: 0.9919\n",
            "Epoch 14/15\n",
            "938/938 [==============================] - 2s 2ms/step - loss: 0.0254 - accuracy: 0.9928\n",
            "Epoch 15/15\n",
            "938/938 [==============================] - 2s 2ms/step - loss: 0.0229 - accuracy: 0.9934\n",
            "313/313 [==============================] - 1s 2ms/step - loss: 0.0907 - accuracy: 0.9751\n",
            "Epoch 1/25\n",
            "782/782 [==============================] - 3s 3ms/step - loss: 0.3825 - accuracy: 0.8940 - val_loss: 0.2071 - val_accuracy: 0.9413\n",
            "Epoch 2/25\n",
            "782/782 [==============================] - 2s 3ms/step - loss: 0.1879 - accuracy: 0.9456 - val_loss: 0.1646 - val_accuracy: 0.9546\n",
            "Epoch 3/25\n",
            "782/782 [==============================] - 2s 3ms/step - loss: 0.1404 - accuracy: 0.9595 - val_loss: 0.1299 - val_accuracy: 0.9632\n",
            "Epoch 4/25\n",
            "782/782 [==============================] - 2s 3ms/step - loss: 0.1116 - accuracy: 0.9663 - val_loss: 0.1129 - val_accuracy: 0.9676\n",
            "Epoch 5/25\n",
            "782/782 [==============================] - 2s 3ms/step - loss: 0.0921 - accuracy: 0.9728 - val_loss: 0.1027 - val_accuracy: 0.9708\n",
            "Epoch 6/25\n",
            "782/782 [==============================] - 2s 3ms/step - loss: 0.0781 - accuracy: 0.9766 - val_loss: 0.1004 - val_accuracy: 0.9707\n",
            "Epoch 7/25\n",
            "782/782 [==============================] - 2s 3ms/step - loss: 0.0660 - accuracy: 0.9813 - val_loss: 0.0973 - val_accuracy: 0.9717\n",
            "Epoch 8/25\n",
            "782/782 [==============================] - 2s 3ms/step - loss: 0.0577 - accuracy: 0.9831 - val_loss: 0.0969 - val_accuracy: 0.9735\n",
            "Epoch 9/25\n",
            "782/782 [==============================] - 2s 3ms/step - loss: 0.0507 - accuracy: 0.9849 - val_loss: 0.0935 - val_accuracy: 0.9732\n",
            "Epoch 10/25\n",
            "782/782 [==============================] - 2s 3ms/step - loss: 0.0440 - accuracy: 0.9873 - val_loss: 0.0899 - val_accuracy: 0.9756\n",
            "Epoch 11/25\n",
            "782/782 [==============================] - 2s 3ms/step - loss: 0.0395 - accuracy: 0.9881 - val_loss: 0.0913 - val_accuracy: 0.9718\n",
            "Epoch 12/25\n",
            "782/782 [==============================] - 2s 3ms/step - loss: 0.0335 - accuracy: 0.9910 - val_loss: 0.0928 - val_accuracy: 0.9731\n",
            "Epoch 13/25\n",
            "782/782 [==============================] - 2s 3ms/step - loss: 0.0309 - accuracy: 0.9912 - val_loss: 0.0905 - val_accuracy: 0.9741\n",
            "Epoch 14/25\n",
            "782/782 [==============================] - 2s 3ms/step - loss: 0.0263 - accuracy: 0.9927 - val_loss: 0.0911 - val_accuracy: 0.9742\n",
            "Epoch 15/25\n",
            "782/782 [==============================] - 2s 3ms/step - loss: 0.0231 - accuracy: 0.9940 - val_loss: 0.1006 - val_accuracy: 0.9730\n",
            "Epoch 16/25\n",
            "782/782 [==============================] - 2s 3ms/step - loss: 0.0201 - accuracy: 0.9947 - val_loss: 0.0969 - val_accuracy: 0.9753\n",
            "Epoch 17/25\n",
            "782/782 [==============================] - 2s 3ms/step - loss: 0.0184 - accuracy: 0.9956 - val_loss: 0.0985 - val_accuracy: 0.9737\n",
            "Epoch 18/25\n",
            "782/782 [==============================] - 2s 3ms/step - loss: 0.0162 - accuracy: 0.9960 - val_loss: 0.1021 - val_accuracy: 0.9754\n",
            "Epoch 19/25\n",
            "782/782 [==============================] - 2s 3ms/step - loss: 0.0141 - accuracy: 0.9965 - val_loss: 0.1022 - val_accuracy: 0.9746\n",
            "Epoch 20/25\n",
            "782/782 [==============================] - 2s 3ms/step - loss: 0.0124 - accuracy: 0.9971 - val_loss: 0.1037 - val_accuracy: 0.9750\n",
            "Best epoch: 10\n",
            "Epoch 1/12\n",
            "938/938 [==============================] - 3s 2ms/step - loss: 0.3531 - accuracy: 0.9024\n",
            "Epoch 2/12\n",
            "938/938 [==============================] - 2s 2ms/step - loss: 0.1768 - accuracy: 0.9487\n",
            "Epoch 3/12\n",
            "938/938 [==============================] - 3s 3ms/step - loss: 0.1328 - accuracy: 0.9617\n",
            "Epoch 4/12\n",
            "938/938 [==============================] - 2s 2ms/step - loss: 0.1051 - accuracy: 0.9699\n",
            "Epoch 5/12\n",
            "938/938 [==============================] - 2s 2ms/step - loss: 0.0888 - accuracy: 0.9745\n",
            "Epoch 6/12\n",
            "938/938 [==============================] - 2s 2ms/step - loss: 0.0751 - accuracy: 0.9780\n",
            "Epoch 7/12\n",
            "938/938 [==============================] - 2s 2ms/step - loss: 0.0648 - accuracy: 0.9807\n",
            "Epoch 8/12\n",
            "938/938 [==============================] - 2s 2ms/step - loss: 0.0567 - accuracy: 0.9830\n",
            "Epoch 9/12\n",
            "938/938 [==============================] - 2s 2ms/step - loss: 0.0491 - accuracy: 0.9857\n",
            "Epoch 10/12\n",
            "938/938 [==============================] - 2s 2ms/step - loss: 0.0441 - accuracy: 0.9870\n",
            "Epoch 11/12\n",
            "938/938 [==============================] - 2s 2ms/step - loss: 0.0393 - accuracy: 0.9882\n",
            "Epoch 12/12\n",
            "938/938 [==============================] - 2s 2ms/step - loss: 0.0338 - accuracy: 0.9901\n",
            "313/313 [==============================] - 1s 2ms/step - loss: 0.0930 - accuracy: 0.9715\n",
            "Epoch 1/25\n",
            "782/782 [==============================] - 3s 3ms/step - loss: 0.3830 - accuracy: 0.8927 - val_loss: 0.2064 - val_accuracy: 0.9445\n",
            "Epoch 2/25\n",
            "782/782 [==============================] - 2s 3ms/step - loss: 0.1930 - accuracy: 0.9438 - val_loss: 0.1566 - val_accuracy: 0.9556\n",
            "Epoch 3/25\n",
            "782/782 [==============================] - 2s 3ms/step - loss: 0.1450 - accuracy: 0.9580 - val_loss: 0.1340 - val_accuracy: 0.9618\n",
            "Epoch 4/25\n",
            "782/782 [==============================] - 2s 3ms/step - loss: 0.1166 - accuracy: 0.9664 - val_loss: 0.1225 - val_accuracy: 0.9646\n",
            "Epoch 5/25\n",
            "782/782 [==============================] - 2s 3ms/step - loss: 0.0969 - accuracy: 0.9719 - val_loss: 0.1080 - val_accuracy: 0.9691\n",
            "Epoch 6/25\n",
            "782/782 [==============================] - 2s 3ms/step - loss: 0.0822 - accuracy: 0.9757 - val_loss: 0.1063 - val_accuracy: 0.9696\n",
            "Epoch 7/25\n",
            "782/782 [==============================] - 2s 3ms/step - loss: 0.0708 - accuracy: 0.9789 - val_loss: 0.0930 - val_accuracy: 0.9728\n",
            "Epoch 8/25\n",
            "782/782 [==============================] - 2s 3ms/step - loss: 0.0609 - accuracy: 0.9824 - val_loss: 0.0911 - val_accuracy: 0.9726\n",
            "Epoch 9/25\n",
            "782/782 [==============================] - 2s 3ms/step - loss: 0.0539 - accuracy: 0.9840 - val_loss: 0.0928 - val_accuracy: 0.9728\n",
            "Epoch 10/25\n",
            "782/782 [==============================] - 2s 3ms/step - loss: 0.0462 - accuracy: 0.9864 - val_loss: 0.0945 - val_accuracy: 0.9738\n",
            "Epoch 11/25\n",
            "782/782 [==============================] - 2s 3ms/step - loss: 0.0416 - accuracy: 0.9883 - val_loss: 0.0924 - val_accuracy: 0.9749\n",
            "Epoch 12/25\n",
            "782/782 [==============================] - 2s 3ms/step - loss: 0.0359 - accuracy: 0.9897 - val_loss: 0.0883 - val_accuracy: 0.9747\n",
            "Epoch 13/25\n",
            "782/782 [==============================] - 2s 3ms/step - loss: 0.0313 - accuracy: 0.9915 - val_loss: 0.0936 - val_accuracy: 0.9749\n",
            "Epoch 14/25\n",
            "782/782 [==============================] - 2s 3ms/step - loss: 0.0280 - accuracy: 0.9927 - val_loss: 0.0928 - val_accuracy: 0.9742\n",
            "Epoch 15/25\n",
            "782/782 [==============================] - 2s 3ms/step - loss: 0.0248 - accuracy: 0.9934 - val_loss: 0.0937 - val_accuracy: 0.9760\n",
            "Epoch 16/25\n",
            "782/782 [==============================] - 2s 3ms/step - loss: 0.0229 - accuracy: 0.9937 - val_loss: 0.0983 - val_accuracy: 0.9742\n",
            "Epoch 17/25\n",
            "782/782 [==============================] - 2s 3ms/step - loss: 0.0191 - accuracy: 0.9952 - val_loss: 0.0962 - val_accuracy: 0.9746\n",
            "Epoch 18/25\n",
            "782/782 [==============================] - 2s 3ms/step - loss: 0.0171 - accuracy: 0.9957 - val_loss: 0.0953 - val_accuracy: 0.9759\n",
            "Epoch 19/25\n",
            "782/782 [==============================] - 2s 3ms/step - loss: 0.0154 - accuracy: 0.9959 - val_loss: 0.1008 - val_accuracy: 0.9757\n",
            "Epoch 20/25\n",
            "782/782 [==============================] - 2s 3ms/step - loss: 0.0135 - accuracy: 0.9968 - val_loss: 0.1004 - val_accuracy: 0.9750\n",
            "Epoch 21/25\n",
            "782/782 [==============================] - 2s 3ms/step - loss: 0.0128 - accuracy: 0.9969 - val_loss: 0.1085 - val_accuracy: 0.9729\n",
            "Epoch 22/25\n",
            "782/782 [==============================] - 2s 3ms/step - loss: 0.0100 - accuracy: 0.9977 - val_loss: 0.1071 - val_accuracy: 0.9739\n",
            "Best epoch: 12\n",
            "Epoch 1/14\n",
            "938/938 [==============================] - 3s 2ms/step - loss: 0.3416 - accuracy: 0.9067\n",
            "Epoch 2/14\n",
            "938/938 [==============================] - 2s 2ms/step - loss: 0.1690 - accuracy: 0.9515\n",
            "Epoch 3/14\n",
            "938/938 [==============================] - 2s 2ms/step - loss: 0.1245 - accuracy: 0.9640\n",
            "Epoch 4/14\n",
            "938/938 [==============================] - 2s 2ms/step - loss: 0.0995 - accuracy: 0.9707\n",
            "Epoch 5/14\n",
            "938/938 [==============================] - 2s 2ms/step - loss: 0.0808 - accuracy: 0.9763\n",
            "Epoch 6/14\n",
            "938/938 [==============================] - 2s 2ms/step - loss: 0.0678 - accuracy: 0.9798\n",
            "Epoch 7/14\n",
            "938/938 [==============================] - 2s 2ms/step - loss: 0.0586 - accuracy: 0.9826\n",
            "Epoch 8/14\n",
            "938/938 [==============================] - 2s 2ms/step - loss: 0.0499 - accuracy: 0.9855\n",
            "Epoch 9/14\n",
            "938/938 [==============================] - 2s 2ms/step - loss: 0.0436 - accuracy: 0.9870\n",
            "Epoch 10/14\n",
            "938/938 [==============================] - 2s 2ms/step - loss: 0.0378 - accuracy: 0.9883\n",
            "Epoch 11/14\n",
            "938/938 [==============================] - 2s 2ms/step - loss: 0.0334 - accuracy: 0.9903\n",
            "Epoch 12/14\n",
            "938/938 [==============================] - 2s 2ms/step - loss: 0.0295 - accuracy: 0.9917\n",
            "Epoch 13/14\n",
            "938/938 [==============================] - 2s 2ms/step - loss: 0.0255 - accuracy: 0.9927\n",
            "Epoch 14/14\n",
            "938/938 [==============================] - 2s 2ms/step - loss: 0.0234 - accuracy: 0.9934\n",
            "313/313 [==============================] - 1s 2ms/step - loss: 0.0856 - accuracy: 0.9742\n",
            "Epoch 1/25\n",
            "782/782 [==============================] - 3s 3ms/step - loss: 0.3818 - accuracy: 0.8943 - val_loss: 0.2121 - val_accuracy: 0.9415\n",
            "Epoch 2/25\n",
            "782/782 [==============================] - 2s 3ms/step - loss: 0.1937 - accuracy: 0.9441 - val_loss: 0.1627 - val_accuracy: 0.9551\n",
            "Epoch 3/25\n",
            "782/782 [==============================] - 2s 3ms/step - loss: 0.1473 - accuracy: 0.9569 - val_loss: 0.1351 - val_accuracy: 0.9626\n",
            "Epoch 4/25\n",
            "782/782 [==============================] - 2s 3ms/step - loss: 0.1193 - accuracy: 0.9649 - val_loss: 0.1175 - val_accuracy: 0.9656\n",
            "Epoch 5/25\n",
            "782/782 [==============================] - 2s 3ms/step - loss: 0.0995 - accuracy: 0.9700 - val_loss: 0.1058 - val_accuracy: 0.9685\n",
            "Epoch 6/25\n",
            "782/782 [==============================] - 2s 3ms/step - loss: 0.0841 - accuracy: 0.9748 - val_loss: 0.1012 - val_accuracy: 0.9704\n",
            "Epoch 7/25\n",
            "782/782 [==============================] - 2s 3ms/step - loss: 0.0724 - accuracy: 0.9784 - val_loss: 0.0996 - val_accuracy: 0.9715\n",
            "Epoch 8/25\n",
            "782/782 [==============================] - 2s 3ms/step - loss: 0.0631 - accuracy: 0.9805 - val_loss: 0.0934 - val_accuracy: 0.9729\n",
            "Epoch 9/25\n",
            "782/782 [==============================] - 2s 3ms/step - loss: 0.0542 - accuracy: 0.9838 - val_loss: 0.0942 - val_accuracy: 0.9729\n",
            "Epoch 10/25\n",
            "782/782 [==============================] - 2s 3ms/step - loss: 0.0474 - accuracy: 0.9857 - val_loss: 0.1090 - val_accuracy: 0.9671\n",
            "Epoch 11/25\n",
            "782/782 [==============================] - 2s 3ms/step - loss: 0.0424 - accuracy: 0.9875 - val_loss: 0.0930 - val_accuracy: 0.9721\n",
            "Epoch 12/25\n",
            "782/782 [==============================] - 2s 3ms/step - loss: 0.0373 - accuracy: 0.9890 - val_loss: 0.0937 - val_accuracy: 0.9734\n",
            "Epoch 13/25\n",
            "782/782 [==============================] - 2s 3ms/step - loss: 0.0325 - accuracy: 0.9909 - val_loss: 0.0946 - val_accuracy: 0.9724\n",
            "Epoch 14/25\n",
            "782/782 [==============================] - 3s 4ms/step - loss: 0.0288 - accuracy: 0.9921 - val_loss: 0.1018 - val_accuracy: 0.9723\n",
            "Epoch 15/25\n",
            "782/782 [==============================] - 2s 3ms/step - loss: 0.0252 - accuracy: 0.9935 - val_loss: 0.0926 - val_accuracy: 0.9737\n",
            "Epoch 16/25\n",
            "782/782 [==============================] - 2s 3ms/step - loss: 0.0235 - accuracy: 0.9936 - val_loss: 0.1012 - val_accuracy: 0.9726\n",
            "Epoch 17/25\n",
            "782/782 [==============================] - 2s 3ms/step - loss: 0.0196 - accuracy: 0.9948 - val_loss: 0.0981 - val_accuracy: 0.9756\n",
            "Epoch 18/25\n",
            "782/782 [==============================] - 2s 3ms/step - loss: 0.0179 - accuracy: 0.9954 - val_loss: 0.0992 - val_accuracy: 0.9726\n",
            "Epoch 19/25\n",
            "782/782 [==============================] - 2s 3ms/step - loss: 0.0170 - accuracy: 0.9953 - val_loss: 0.1006 - val_accuracy: 0.9747\n",
            "Epoch 20/25\n",
            "782/782 [==============================] - 2s 3ms/step - loss: 0.0134 - accuracy: 0.9969 - val_loss: 0.1134 - val_accuracy: 0.9719\n",
            "Epoch 21/25\n",
            "782/782 [==============================] - 2s 3ms/step - loss: 0.0125 - accuracy: 0.9969 - val_loss: 0.1024 - val_accuracy: 0.9755\n",
            "Epoch 22/25\n",
            "782/782 [==============================] - 2s 3ms/step - loss: 0.0112 - accuracy: 0.9973 - val_loss: 0.1131 - val_accuracy: 0.9745\n",
            "Epoch 23/25\n",
            "782/782 [==============================] - 2s 3ms/step - loss: 0.0103 - accuracy: 0.9974 - val_loss: 0.1136 - val_accuracy: 0.9738\n",
            "Epoch 24/25\n",
            "782/782 [==============================] - 2s 3ms/step - loss: 0.0101 - accuracy: 0.9976 - val_loss: 0.1068 - val_accuracy: 0.9752\n",
            "Epoch 25/25\n",
            "782/782 [==============================] - 2s 3ms/step - loss: 0.0075 - accuracy: 0.9986 - val_loss: 0.1197 - val_accuracy: 0.9740\n",
            "Best epoch: 15\n",
            "Epoch 1/18\n",
            "938/938 [==============================] - 3s 2ms/step - loss: 0.3484 - accuracy: 0.9035\n",
            "Epoch 2/18\n",
            "938/938 [==============================] - 2s 2ms/step - loss: 0.1674 - accuracy: 0.9521\n",
            "Epoch 3/18\n",
            "938/938 [==============================] - 2s 2ms/step - loss: 0.1240 - accuracy: 0.9637\n",
            "Epoch 4/18\n",
            "938/938 [==============================] - 2s 2ms/step - loss: 0.0992 - accuracy: 0.9708\n",
            "Epoch 5/18\n",
            "938/938 [==============================] - 2s 2ms/step - loss: 0.0831 - accuracy: 0.9753\n",
            "Epoch 6/18\n",
            "938/938 [==============================] - 2s 2ms/step - loss: 0.0710 - accuracy: 0.9790\n",
            "Epoch 7/18\n",
            "938/938 [==============================] - 2s 2ms/step - loss: 0.0616 - accuracy: 0.9814\n",
            "Epoch 8/18\n",
            "938/938 [==============================] - 2s 2ms/step - loss: 0.0527 - accuracy: 0.9840\n",
            "Epoch 9/18\n",
            "938/938 [==============================] - 2s 2ms/step - loss: 0.0465 - accuracy: 0.9859\n",
            "Epoch 10/18\n",
            "938/938 [==============================] - 2s 2ms/step - loss: 0.0420 - accuracy: 0.9870\n",
            "Epoch 11/18\n",
            "938/938 [==============================] - 2s 2ms/step - loss: 0.0369 - accuracy: 0.9893\n",
            "Epoch 12/18\n",
            "938/938 [==============================] - 2s 2ms/step - loss: 0.0323 - accuracy: 0.9909\n",
            "Epoch 13/18\n",
            "938/938 [==============================] - 2s 2ms/step - loss: 0.0299 - accuracy: 0.9910\n",
            "Epoch 14/18\n",
            "938/938 [==============================] - 2s 2ms/step - loss: 0.0253 - accuracy: 0.9928\n",
            "Epoch 15/18\n",
            "938/938 [==============================] - 2s 2ms/step - loss: 0.0228 - accuracy: 0.9934\n",
            "Epoch 16/18\n",
            "938/938 [==============================] - 2s 2ms/step - loss: 0.0206 - accuracy: 0.9943\n",
            "Epoch 17/18\n",
            "938/938 [==============================] - 2s 2ms/step - loss: 0.0182 - accuracy: 0.9948\n",
            "Epoch 18/18\n",
            "938/938 [==============================] - 2s 2ms/step - loss: 0.0167 - accuracy: 0.9954\n",
            "313/313 [==============================] - 1s 2ms/step - loss: 0.0918 - accuracy: 0.9775\n"
          ]
        }
      ]
    },
    {
      "cell_type": "code",
      "source": [
        ""
      ],
      "metadata": {
        "id": "Ja6gWh9jA_4X"
      },
      "execution_count": null,
      "outputs": []
    }
  ]
}