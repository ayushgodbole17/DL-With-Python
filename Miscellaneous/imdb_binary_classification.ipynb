{
 "cells": [
  {
   "cell_type": "code",
   "execution_count": 1,
   "id": "784b1944",
   "metadata": {},
   "outputs": [],
   "source": [
    "import tensorflow as tf\n",
    "import tensorflow.keras as keras"
   ]
  },
  {
   "cell_type": "code",
   "execution_count": 2,
   "id": "e0866d54",
   "metadata": {},
   "outputs": [
    {
     "name": "stderr",
     "output_type": "stream",
     "text": [
      "<__array_function__ internals>:180: VisibleDeprecationWarning: Creating an ndarray from ragged nested sequences (which is a list-or-tuple of lists-or-tuples-or ndarrays with different lengths or shapes) is deprecated. If you meant to do this, you must specify 'dtype=object' when creating the ndarray.\n",
      "C:\\Users\\godbo\\anaconda3\\lib\\site-packages\\tensorflow\\python\\keras\\datasets\\imdb.py:159: VisibleDeprecationWarning: Creating an ndarray from ragged nested sequences (which is a list-or-tuple of lists-or-tuples-or ndarrays with different lengths or shapes) is deprecated. If you meant to do this, you must specify 'dtype=object' when creating the ndarray.\n",
      "  x_train, y_train = np.array(xs[:idx]), np.array(labels[:idx])\n",
      "C:\\Users\\godbo\\anaconda3\\lib\\site-packages\\tensorflow\\python\\keras\\datasets\\imdb.py:160: VisibleDeprecationWarning: Creating an ndarray from ragged nested sequences (which is a list-or-tuple of lists-or-tuples-or ndarrays with different lengths or shapes) is deprecated. If you meant to do this, you must specify 'dtype=object' when creating the ndarray.\n",
      "  x_test, y_test = np.array(xs[idx:]), np.array(labels[idx:])\n"
     ]
    }
   ],
   "source": [
    "from tensorflow.keras.datasets import imdb\n",
    "(train, trlabels) , (test, telabels) = imdb.load_data(num_words=10000)"
   ]
  },
  {
   "cell_type": "code",
   "execution_count": 3,
   "id": "710a754a",
   "metadata": {},
   "outputs": [],
   "source": [
    "#multi-hot encoding reviews\n",
    "\n",
    "import numpy as np \n",
    "def vectorize_sequences(sequences, dimension=10000): \n",
    " results = np.zeros((len(sequences), dimension))\n",
    " for i, sequence in enumerate(sequences):\n",
    "     for j in sequence:\n",
    "         results[i, j] = 1. \n",
    " return results\n",
    "xtr = vectorize_sequences(train) \n",
    "xte = vectorize_sequences(test)"
   ]
  },
  {
   "cell_type": "code",
   "execution_count": 4,
   "id": "709bfb11",
   "metadata": {},
   "outputs": [],
   "source": [
    "ytr = np.asarray(trlabels).astype('float32')\n",
    "yte = np.asarray(telabels).astype('float32')"
   ]
  },
  {
   "cell_type": "code",
   "execution_count": 5,
   "id": "1b83854a",
   "metadata": {},
   "outputs": [],
   "source": [
    "from tensorflow.keras import layers\n",
    "\n",
    "model = keras.Sequential([\n",
    "    layers.Dense(16, activation='relu'),\n",
    "    layers.Dense(16, activation='relu'),\n",
    "    layers.Dense(1, activation='sigmoid')\n",
    "])"
   ]
  },
  {
   "cell_type": "code",
   "execution_count": 6,
   "id": "27c9d542",
   "metadata": {},
   "outputs": [],
   "source": [
    "model.compile(optimizer='adam',\n",
    "             loss='binary_crossentropy',\n",
    "             metrics=[\"accuracy\"])"
   ]
  },
  {
   "cell_type": "code",
   "execution_count": 7,
   "id": "2133f061",
   "metadata": {},
   "outputs": [],
   "source": [
    "xv = xtr[:8000]\n",
    "xtr = xtr[8000:]\n",
    "\n",
    "yv = ytr[:8000]\n",
    "ytr = ytr[8000:]\n"
   ]
  },
  {
   "cell_type": "code",
   "execution_count": 8,
   "id": "15289604",
   "metadata": {},
   "outputs": [
    {
     "name": "stdout",
     "output_type": "stream",
     "text": [
      "Epoch 1/30\n",
      "17/17 [==============================] - 1s 30ms/step - loss: 0.6226 - accuracy: 0.7446 - val_loss: 0.5188 - val_accuracy: 0.8385\n",
      "Epoch 2/30\n",
      "17/17 [==============================] - 0s 16ms/step - loss: 0.4180 - accuracy: 0.8724 - val_loss: 0.3652 - val_accuracy: 0.8711\n",
      "Epoch 3/30\n",
      "17/17 [==============================] - 0s 16ms/step - loss: 0.2801 - accuracy: 0.9091 - val_loss: 0.2970 - val_accuracy: 0.8884\n",
      "Epoch 4/30\n",
      "17/17 [==============================] - 0s 16ms/step - loss: 0.2092 - accuracy: 0.9325 - val_loss: 0.2774 - val_accuracy: 0.8945\n",
      "Epoch 5/30\n",
      "17/17 [==============================] - 0s 16ms/step - loss: 0.1683 - accuracy: 0.9464 - val_loss: 0.2744 - val_accuracy: 0.8925\n",
      "Epoch 6/30\n",
      "17/17 [==============================] - 0s 17ms/step - loss: 0.1396 - accuracy: 0.9572 - val_loss: 0.2830 - val_accuracy: 0.8881\n",
      "Epoch 7/30\n",
      "17/17 [==============================] - 0s 16ms/step - loss: 0.1182 - accuracy: 0.9663 - val_loss: 0.2891 - val_accuracy: 0.8878\n",
      "Epoch 8/30\n",
      "17/17 [==============================] - 0s 17ms/step - loss: 0.0995 - accuracy: 0.9736 - val_loss: 0.3015 - val_accuracy: 0.8875\n",
      "Epoch 9/30\n",
      "17/17 [==============================] - 0s 17ms/step - loss: 0.0848 - accuracy: 0.9801 - val_loss: 0.3157 - val_accuracy: 0.8845\n",
      "Epoch 10/30\n",
      "17/17 [==============================] - 0s 17ms/step - loss: 0.0724 - accuracy: 0.9845 - val_loss: 0.3317 - val_accuracy: 0.8824\n",
      "Epoch 11/30\n",
      "17/17 [==============================] - 0s 18ms/step - loss: 0.0610 - accuracy: 0.9886 - val_loss: 0.3497 - val_accuracy: 0.8815\n",
      "Epoch 12/30\n",
      "17/17 [==============================] - 0s 16ms/step - loss: 0.0520 - accuracy: 0.9914 - val_loss: 0.3682 - val_accuracy: 0.8799\n",
      "Epoch 13/30\n",
      "17/17 [==============================] - 0s 16ms/step - loss: 0.0441 - accuracy: 0.9939 - val_loss: 0.3875 - val_accuracy: 0.8792\n",
      "Epoch 14/30\n",
      "17/17 [==============================] - 0s 16ms/step - loss: 0.0375 - accuracy: 0.9959 - val_loss: 0.4060 - val_accuracy: 0.8784\n",
      "Epoch 15/30\n",
      "17/17 [==============================] - 0s 16ms/step - loss: 0.0317 - accuracy: 0.9971 - val_loss: 0.4252 - val_accuracy: 0.8766\n",
      "Epoch 16/30\n",
      "17/17 [==============================] - 0s 16ms/step - loss: 0.0270 - accuracy: 0.9978 - val_loss: 0.4459 - val_accuracy: 0.8761\n",
      "Epoch 17/30\n",
      "17/17 [==============================] - 0s 16ms/step - loss: 0.0230 - accuracy: 0.9984 - val_loss: 0.4648 - val_accuracy: 0.8744\n",
      "Epoch 18/30\n",
      "17/17 [==============================] - 0s 16ms/step - loss: 0.0197 - accuracy: 0.9991 - val_loss: 0.4834 - val_accuracy: 0.8731\n",
      "Epoch 19/30\n",
      "17/17 [==============================] - 0s 16ms/step - loss: 0.0169 - accuracy: 0.9994 - val_loss: 0.5022 - val_accuracy: 0.8727\n",
      "Epoch 20/30\n",
      "17/17 [==============================] - 0s 16ms/step - loss: 0.0146 - accuracy: 0.9995 - val_loss: 0.5178 - val_accuracy: 0.8708\n",
      "Epoch 21/30\n",
      "17/17 [==============================] - 0s 17ms/step - loss: 0.0126 - accuracy: 0.9997 - val_loss: 0.5352 - val_accuracy: 0.8701\n",
      "Epoch 22/30\n",
      "17/17 [==============================] - 0s 16ms/step - loss: 0.0109 - accuracy: 0.9997 - val_loss: 0.5518 - val_accuracy: 0.8709\n",
      "Epoch 23/30\n",
      "17/17 [==============================] - 0s 16ms/step - loss: 0.0096 - accuracy: 0.9998 - val_loss: 0.5665 - val_accuracy: 0.8702\n",
      "Epoch 24/30\n",
      "17/17 [==============================] - 0s 16ms/step - loss: 0.0084 - accuracy: 0.9998 - val_loss: 0.5830 - val_accuracy: 0.8699\n",
      "Epoch 25/30\n",
      "17/17 [==============================] - 0s 16ms/step - loss: 0.0074 - accuracy: 0.9999 - val_loss: 0.5965 - val_accuracy: 0.8694\n",
      "Epoch 26/30\n",
      "17/17 [==============================] - 0s 16ms/step - loss: 0.0066 - accuracy: 0.9999 - val_loss: 0.6106 - val_accuracy: 0.8692\n",
      "Epoch 27/30\n",
      "17/17 [==============================] - 0s 16ms/step - loss: 0.0059 - accuracy: 0.9999 - val_loss: 0.6252 - val_accuracy: 0.8684\n",
      "Epoch 28/30\n",
      "17/17 [==============================] - 0s 16ms/step - loss: 0.0054 - accuracy: 0.9999 - val_loss: 0.6372 - val_accuracy: 0.8685\n",
      "Epoch 29/30\n",
      "17/17 [==============================] - 0s 16ms/step - loss: 0.0048 - accuracy: 0.9999 - val_loss: 0.6497 - val_accuracy: 0.8677\n",
      "Epoch 30/30\n",
      "17/17 [==============================] - 0s 12ms/step - loss: 0.0044 - accuracy: 0.9999 - val_loss: 0.6611 - val_accuracy: 0.8677\n"
     ]
    }
   ],
   "source": [
    "history = model.fit(xtr, ytr, epochs=30, batch_size=1024, validation_data=(xv, yv))"
   ]
  },
  {
   "cell_type": "code",
   "execution_count": null,
   "id": "b22430b9",
   "metadata": {},
   "outputs": [],
   "source": []
  }
 ],
 "metadata": {
  "kernelspec": {
   "display_name": "Python 3 (ipykernel)",
   "language": "python",
   "name": "python3"
  },
  "language_info": {
   "codemirror_mode": {
    "name": "ipython",
    "version": 3
   },
   "file_extension": ".py",
   "mimetype": "text/x-python",
   "name": "python",
   "nbconvert_exporter": "python",
   "pygments_lexer": "ipython3",
   "version": "3.8.13"
  }
 },
 "nbformat": 4,
 "nbformat_minor": 5
}
