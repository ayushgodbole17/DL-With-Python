{
  "cells": [
    {
      "cell_type": "code",
      "execution_count": 1,
      "metadata": {
        "id": "YKlj0S4e027f"
      },
      "outputs": [],
      "source": [
        "from tensorflow import keras\n",
        "import tensorflow as tf\n",
        "\n",
        "base_image_path = keras.utils.get_file(\"sf.jpg\", origin=\"https://img-datasets.s3.amazonaws.com/sf.jpg\")\n",
        "style_reference_image_path = keras.utils.get_file(\"starry_night.jpg\", origin=\"https://img-datasets.s3.amazonaws.com/starry_night.jpg\")"
      ]
    },
    {
      "cell_type": "code",
      "execution_count": 2,
      "metadata": {
        "id": "TkeAwKpu1EPr"
      },
      "outputs": [],
      "source": [
        "original_width, original_height = keras.utils.load_img(base_image_path).size\n",
        "img_height = 400 \n",
        "img_width = round(original_width * img_height / original_height)"
      ]
    },
    {
      "cell_type": "code",
      "execution_count": 3,
      "metadata": {
        "id": "SBDo_JwQ1Id_"
      },
      "outputs": [],
      "source": [
        "import numpy as np\n",
        "def preprocess_image(image_path): \n",
        " img = keras.utils.load_img(\n",
        " image_path, target_size=(img_height, img_width))\n",
        " img = keras.utils.img_to_array(img)\n",
        " img = np.expand_dims(img, axis=0)\n",
        " img = keras.applications.vgg19.preprocess_input(img)\n",
        " return img\n",
        "def deprocess_image(img): \n",
        " img = img.reshape((img_height, img_width, 3))\n",
        " img[:, :, 0] += 103.939 \n",
        " img[:, :, 1] += 116.779 \n",
        " img[:, :, 2] += 123.68 \n",
        " img = img[:, :, ::-1] \n",
        " img = np.clip(img, 0, 255).astype(\"uint8\")\n",
        " return img"
      ]
    },
    {
      "cell_type": "code",
      "execution_count": 4,
      "metadata": {
        "id": "Sy3S1KMj1NYH"
      },
      "outputs": [],
      "source": [
        "model = keras.applications.vgg19.VGG19(weights=\"imagenet\", include_top=False)\n",
        "outputs_dict = dict([(layer.name, layer.output) for layer in model.layers])\n",
        "feature_extractor = keras.Model(inputs=model.inputs, outputs=outputs_dict) "
      ]
    },
    {
      "cell_type": "code",
      "execution_count": 5,
      "metadata": {
        "id": "9AQ59Vmu1VUl"
      },
      "outputs": [],
      "source": [
        "def content_loss(base_img, combination_img):\n",
        " return tf.reduce_sum(tf.square(combination_img - base_img))"
      ]
    },
    {
      "cell_type": "code",
      "execution_count": 6,
      "metadata": {
        "id": "zoq_re6X1XpQ"
      },
      "outputs": [],
      "source": [
        "def gram_matrix(x):\n",
        " x = tf.transpose(x, (2, 0, 1))\n",
        " features = tf.reshape(x, (tf.shape(x)[0], -1))\n",
        " gram = tf.matmul(features, tf.transpose(features))\n",
        " return gram\n",
        "\n",
        "\n",
        "def style_loss(style_img, combination_img):\n",
        " S = gram_matrix(style_img)\n",
        " C = gram_matrix(combination_img)\n",
        " channels = 3\n",
        " size = img_height * img_width\n",
        " return tf.reduce_sum(tf.square(S - C)) / (4.0 * (channels ** 2) * (size ** 2))\n",
        "\n",
        "\n",
        "def total_variation_loss(x):\n",
        " a = tf.square(x[:, : img_height - 1, : img_width - 1, :] - x[:, 1:, : img_width - 1, :])\n",
        " b = tf.square(x[:, : img_height - 1, : img_width - 1, :] - x[:, : img_height - 1, 1:, :])\n",
        " return tf.reduce_sum(tf.pow(a + b, 1.25))"
      ]
    },
    {
      "cell_type": "code",
      "execution_count": 7,
      "metadata": {
        "id": "394OUPWn1p7Z"
      },
      "outputs": [],
      "source": [
        "style_layer_names = [ \n",
        " \"block1_conv1\",\n",
        " \"block2_conv1\",\n",
        " \"block3_conv1\",\n",
        " \"block4_conv1\",\n",
        " \"block5_conv1\",\n",
        "]\n",
        "content_layer_name = \"block5_conv2\" \n",
        "total_variation_weight = 1e-6 \n",
        "style_weight = 1e-6 \n",
        "content_weight = 2.5e-8"
      ]
    },
    {
      "cell_type": "code",
      "execution_count": 8,
      "metadata": {
        "id": "RlwSvYzs1x4s"
      },
      "outputs": [],
      "source": [
        "def compute_loss(combination_image, base_image, style_reference_image):\n",
        " input_tensor = tf.concat([base_image, style_reference_image, combination_image], axis=0)\n",
        " features = feature_extractor(input_tensor)\n",
        " loss = tf.zeros(shape=()) \n",
        " layer_features = features[content_layer_name] \n",
        " base_image_features = layer_features[0, :, :, :] \n",
        " combination_features = layer_features[2, :, :, :] \n",
        " loss = loss + content_weight * content_loss(base_image_features, combination_features)\n",
        " for layer_name in style_layer_names: \n",
        "  layer_features = features[layer_name] \n",
        "  style_reference_features = layer_features[1, :, :, :] \n",
        "  combination_features = layer_features[2, :, :, :] \n",
        "  style_loss_value = style_loss( \n",
        "  style_reference_features, combination_features) \n",
        "  loss += (style_weight / len(style_layer_names)) * style_loss_value \n",
        " loss += total_variation_weight * total_variation_loss(combination_image)\n",
        " return loss"
      ]
    },
    {
      "cell_type": "code",
      "execution_count": 9,
      "metadata": {
        "colab": {
          "base_uri": "https://localhost:8080/"
        },
        "id": "z93jvH_s180E",
        "outputId": "ed7bd046-a564-4e53-bef0-e4b9abb2f1cd"
      },
      "outputs": [
        {
          "name": "stdout",
          "output_type": "stream",
          "text": [
            "Iteration 250: loss=443.84\n",
            "Iteration 500: loss=371.40\n"
          ]
        }
      ],
      "source": [
        "import tensorflow as tf\n",
        "\n",
        "@tf.function \n",
        "def compute_loss_and_grads(\n",
        " combination_image, base_image, style_reference_image):\n",
        " with tf.GradientTape() as tape:\n",
        "  loss = compute_loss(combination_image, base_image, style_reference_image)\n",
        "  grads = tape.gradient(loss, combination_image)\n",
        " return loss, grads\n",
        "\n",
        "optimizer = keras.optimizers.SGD(keras.optimizers.schedules.ExponentialDecay(initial_learning_rate=100.0, decay_steps=100, decay_rate=0.96))\n",
        "\n",
        "base_image = preprocess_image(base_image_path)\n",
        "style_reference_image = preprocess_image(style_reference_image_path)\n",
        "combination_image = tf.Variable(preprocess_image(base_image_path)) \n",
        "iterations = 500\n",
        "for i in range(1, iterations + 1): \n",
        " loss, grads = compute_loss_and_grads(combination_image, base_image, style_reference_image)\n",
        " optimizer.apply_gradients([(grads, combination_image)]) \n",
        " if i % 100 == 0:\n",
        "  print(f\"Iteration {i}: loss={loss:.2f}\")\n",
        "  img = deprocess_image(combination_image.numpy())\n",
        "  fname = f\"image_at_iteration_{i}.png\"\n",
        "  keras.utils.save_img(fname, img)"
      ]
    },
    {
      "cell_type": "code",
      "execution_count": 9,
      "metadata": {
        "id": "HP3B8_wP2afg"
      },
      "outputs": [],
      "source": []
    }
  ],
  "metadata": {
    "accelerator": "GPU",
    "colab": {
      "collapsed_sections": [],
      "name": "neural-style-transfer.ipynb",
      "provenance": []
    },
    "gpuClass": "standard",
    "kernelspec": {
      "display_name": "Python 3",
      "name": "python3"
    },
    "language_info": {
      "name": "python"
    }
  },
  "nbformat": 4,
  "nbformat_minor": 0
}
