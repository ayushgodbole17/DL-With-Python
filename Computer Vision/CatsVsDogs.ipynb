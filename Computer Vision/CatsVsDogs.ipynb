{
 "cells": [
  {
   "cell_type": "code",
   "execution_count": 1,
   "id": "7d20f221",
   "metadata": {},
   "outputs": [
    {
     "name": "stdout",
     "output_type": "stream",
     "text": [
      "WARNING:tensorflow:From C:\\Users\\godbo\\AppData\\Local\\Temp\\ipykernel_22112\\3891643304.py:4: is_gpu_available (from tensorflow.python.framework.test_util) is deprecated and will be removed in a future version.\n",
      "Instructions for updating:\n",
      "Use `tf.config.list_physical_devices('GPU')` instead.\n"
     ]
    },
    {
     "data": {
      "text/plain": [
       "False"
      ]
     },
     "execution_count": 1,
     "metadata": {},
     "output_type": "execute_result"
    }
   ],
   "source": [
    "#We don't use all 12k or whatever samples; makes it too easy; we sub sample, take 5k total for training, testing and validation"
   ]
  },
  {
   "cell_type": "code",
   "execution_count": 2,
   "id": "c7d7289a",
   "metadata": {},
   "outputs": [],
   "source": [
    "import os, shutil, pathlib"
   ]
  },
  {
   "cell_type": "code",
   "execution_count": 3,
   "id": "e07255da",
   "metadata": {},
   "outputs": [],
   "source": [
    "original_dir = pathlib.Path(r\"path to catsvsdogs\\train\")"
   ]
  },
  {
   "cell_type": "code",
   "execution_count": 4,
   "id": "f74b6281",
   "metadata": {},
   "outputs": [],
   "source": [
    "new_base_dir = pathlib.Path(r\"path to catsvsdogs\\catsvsdogs_small\")"
   ]
  },
  {
   "cell_type": "code",
   "execution_count": 5,
   "id": "7a7fb661",
   "metadata": {},
   "outputs": [
    {
     "data": {
      "text/plain": [
       "'def make_subset(subset_name, start_index, end_index): \\n    for category in (\"cat\", \"dog\"):\\n        dir = new_base_dir / subset_name / category\\n        os.makedirs(dir)\\n        fnames = [f\"{category}.{i}.jpg\" for i in range(start_index, end_index)]\\n        for fname in fnames:\\n            shutil.copyfile(src=original_dir / fname, dst=dir / fname)\\n            \\nmake_subset(\\'train\\', 0, 1000)\\nmake_subset(\\'validation\\', 1000, 1500)\\nmake_subset(\\'test\\', 1500, 2500)'"
      ]
     },
     "execution_count": 5,
     "metadata": {},
     "output_type": "execute_result"
    }
   ],
   "source": [
    "def make_subset(subset_name, start_index, end_index): \n",
    "    for category in (\"cat\", \"dog\"):\n",
    "        dir = new_base_dir / subset_name / category\n",
    "        os.makedirs(dir)\n",
    "        fnames = [f\"{category}.{i}.jpg\" for i in range(start_index, end_index)]\n",
    "        for fname in fnames:\n",
    "            shutil.copyfile(src=original_dir / fname, dst=dir / fname)\n",
    "            \n",
    "make_subset('train', 0, 1000)\n",
    "make_subset('validation', 1000, 1500)\n",
    "make_subset('test', 1500, 2500)"
   ]
  },
  {
   "cell_type": "code",
   "execution_count": 5,
   "id": "40caee56",
   "metadata": {},
   "outputs": [],
   "source": [
    "import tensorflow as tf\n",
    "import tensorflow.keras as keras\n",
    "from tensorflow.keras import layers"
   ]
  },
  {
   "cell_type": "code",
   "execution_count": 6,
   "id": "711f5467",
   "metadata": {},
   "outputs": [
    {
     "name": "stdout",
     "output_type": "stream",
     "text": [
      "Model: \"model\"\n",
      "_________________________________________________________________\n",
      "Layer (type)                 Output Shape              Param #   \n",
      "=================================================================\n",
      "input_1 (InputLayer)         [(None, 180, 180, 3)]     0         \n",
      "_________________________________________________________________\n",
      "rescaling (Rescaling)        (None, 180, 180, 3)       0         \n",
      "_________________________________________________________________\n",
      "conv2d (Conv2D)              (None, 178, 178, 32)      896       \n",
      "_________________________________________________________________\n",
      "max_pooling2d (MaxPooling2D) (None, 89, 89, 32)        0         \n",
      "_________________________________________________________________\n",
      "conv2d_1 (Conv2D)            (None, 87, 87, 64)        18496     \n",
      "_________________________________________________________________\n",
      "max_pooling2d_1 (MaxPooling2 (None, 43, 43, 64)        0         \n",
      "_________________________________________________________________\n",
      "conv2d_2 (Conv2D)            (None, 41, 41, 128)       73856     \n",
      "_________________________________________________________________\n",
      "max_pooling2d_2 (MaxPooling2 (None, 20, 20, 128)       0         \n",
      "_________________________________________________________________\n",
      "conv2d_3 (Conv2D)            (None, 18, 18, 256)       295168    \n",
      "_________________________________________________________________\n",
      "max_pooling2d_3 (MaxPooling2 (None, 9, 9, 256)         0         \n",
      "_________________________________________________________________\n",
      "conv2d_4 (Conv2D)            (None, 7, 7, 512)         1180160   \n",
      "_________________________________________________________________\n",
      "max_pooling2d_4 (MaxPooling2 (None, 3, 3, 512)         0         \n",
      "_________________________________________________________________\n",
      "flatten (Flatten)            (None, 4608)              0         \n",
      "_________________________________________________________________\n",
      "dense (Dense)                (None, 1)                 4609      \n",
      "=================================================================\n",
      "Total params: 1,573,185\n",
      "Trainable params: 1,573,185\n",
      "Non-trainable params: 0\n",
      "_________________________________________________________________\n"
     ]
    }
   ],
   "source": [
    "inputs = keras.Input(shape=(180, 180, 3))\n",
    "x = layers.experimental.preprocessing.Rescaling(1./255)(inputs)\n",
    "x = layers.Conv2D(filters=32, kernel_size=3, activation='relu')(x)\n",
    "x = layers.MaxPooling2D(pool_size=2)(x)\n",
    "x = layers.Conv2D(filters=64, kernel_size=3, activation='relu')(x)\n",
    "x = layers.MaxPooling2D(pool_size=2)(x)\n",
    "x = layers.Conv2D(filters=128, kernel_size=3, activation='relu')(x)\n",
    "x = layers.MaxPooling2D(pool_size=2)(x)\n",
    "x = layers.Conv2D(filters=256, kernel_size=3, activation='relu')(x)\n",
    "x = layers.MaxPooling2D(pool_size=2)(x)\n",
    "x = layers.Conv2D(filters=512, kernel_size=3, activation='relu')(x)\n",
    "x = layers.MaxPooling2D(pool_size=2)(x)\n",
    "x = layers.Flatten()(x)\n",
    "\n",
    "outputs=layers.Dense(1, activation='sigmoid')(x)\n",
    "model = keras.Model(inputs=inputs, outputs=outputs)\n",
    "\n",
    "model.summary()\n",
    "\n",
    "model.compile(optimizer='adam', loss='binary_crossentropy', metrics=['accuracy'])"
   ]
  },
  {
   "cell_type": "code",
   "execution_count": 7,
   "id": "b5cca7f0",
   "metadata": {},
   "outputs": [],
   "source": [
    "from tensorflow.keras.utils import image_dataset_from_directory as idfd"
   ]
  },
  {
   "cell_type": "code",
   "execution_count": 8,
   "id": "9cb20f1d",
   "metadata": {},
   "outputs": [
    {
     "name": "stdout",
     "output_type": "stream",
     "text": [
      "Found 2000 files belonging to 2 classes.\n",
      "Found 1000 files belonging to 2 classes.\n",
      "Found 2000 files belonging to 2 classes.\n"
     ]
    }
   ],
   "source": [
    "train_dataset = idfd(new_base_dir/'train',\n",
    "                    image_size=(180, 180),\n",
    "                    batch_size=32)\n",
    "\n",
    "val_dataset = idfd(new_base_dir/'validation',\n",
    "                  image_size=(180, 180),\n",
    "                  batch_size=32)\n",
    "\n",
    "test_dataset = idfd(new_base_dir/'test',\n",
    "                   image_size=(180, 180),\n",
    "                   batch_size=32)"
   ]
  },
  {
   "cell_type": "code",
   "execution_count": 10,
   "id": "b23f1b7d",
   "metadata": {},
   "outputs": [
    {
     "name": "stdout",
     "output_type": "stream",
     "text": [
      "(32, 180, 180, 3) ,  (32,) \n",
      "\n"
     ]
    }
   ],
   "source": [
    "for data_batch, label_batch in train_dataset:\n",
    "    print(data_batch.shape, \", \", label_batch.shape, \"\\n\")\n",
    "    break"
   ]
  },
  {
   "cell_type": "code",
   "execution_count": 9,
   "id": "f8912356",
   "metadata": {},
   "outputs": [],
   "source": [
    "callbacks = [\n",
    "    keras.callbacks.ModelCheckpoint(filepath = 'catsvsdogs_convnet.keras',\n",
    "                                   save_best_only=True,\n",
    "                                   monitor='val_loss')]\n",
    "\n"
   ]
  },
  {
   "cell_type": "code",
   "execution_count": 12,
   "id": "bea0523b",
   "metadata": {},
   "outputs": [],
   "source": [
    "#history = model.fit(train_dataset, epochs=30, validation_data=val_dataset, callbacks=callbacks)"
   ]
  },
  {
   "cell_type": "code",
   "execution_count": null,
   "id": "bf1b5bd0",
   "metadata": {},
   "outputs": [],
   "source": [
    "import matplotlib.pyplot as plt\n",
    "accuracy = history.history[\"accuracy\"]\n",
    "val_accuracy = history.history[\"val_accuracy\"]\n",
    "loss = history.history[\"loss\"]\n",
    "val_loss = history.history[\"val_loss\"]\n",
    "epochs = range(1, len(accuracy) + 1)\n",
    "plt.plot(epochs, accuracy, \"bo\", label=\"Training accuracy\")\n",
    "plt.plot(epochs, val_accuracy, \"b\", label=\"Validation accuracy\")\n",
    "plt.title(\"Training and validation accuracy\")\n",
    "plt.legend()\n",
    "plt.figure()\n",
    "plt.plot(epochs, loss, \"bo\", label=\"Training loss\")\n",
    "plt.plot(epochs, val_loss, \"b\", label=\"Validation loss\")\n",
    "plt.title(\"Training and validation loss\")\n",
    "plt.legend()\n",
    "plt.show()"
   ]
  },
  {
   "cell_type": "code",
   "execution_count": null,
   "id": "43575741",
   "metadata": {},
   "outputs": [],
   "source": [
    "test_model = keras.models.load_model(\"catsvsdogs_convnet.keras\")\n",
    "test_loss, test_acc = test_model.evaluate(test_dataset)\n",
    "print(test_acc)"
   ]
  },
  {
   "cell_type": "code",
   "execution_count": 10,
   "id": "360b3374",
   "metadata": {},
   "outputs": [],
   "source": [
    "#INTENSE OVERFITTING\n",
    "# =>INTRODUCE DATA AUGMENTATION\n",
    "data_aug = keras.Sequential([\n",
    "    layers.RandomFlip(\"horizontal\"),\n",
    "    layers.RandomRotation(0.1),\n",
    "    layers.RandomZoom(0.2)\n",
    "])"
   ]
  },
  {
   "cell_type": "code",
   "execution_count": 11,
   "id": "d7b67736",
   "metadata": {},
   "outputs": [
    {
     "name": "stdout",
     "output_type": "stream",
     "text": [
      "Model: \"model_1\"\n",
      "_________________________________________________________________\n",
      "Layer (type)                 Output Shape              Param #   \n",
      "=================================================================\n",
      "input_2 (InputLayer)         [(None, 180, 180, 3)]     0         \n",
      "_________________________________________________________________\n",
      "rescaling_1 (Rescaling)      (None, 180, 180, 3)       0         \n",
      "_________________________________________________________________\n",
      "conv2d_5 (Conv2D)            (None, 178, 178, 32)      896       \n",
      "_________________________________________________________________\n",
      "max_pooling2d_5 (MaxPooling2 (None, 89, 89, 32)        0         \n",
      "_________________________________________________________________\n",
      "conv2d_6 (Conv2D)            (None, 87, 87, 64)        18496     \n",
      "_________________________________________________________________\n",
      "max_pooling2d_6 (MaxPooling2 (None, 43, 43, 64)        0         \n",
      "_________________________________________________________________\n",
      "conv2d_7 (Conv2D)            (None, 41, 41, 128)       73856     \n",
      "_________________________________________________________________\n",
      "max_pooling2d_7 (MaxPooling2 (None, 20, 20, 128)       0         \n",
      "_________________________________________________________________\n",
      "conv2d_8 (Conv2D)            (None, 18, 18, 256)       295168    \n",
      "_________________________________________________________________\n",
      "max_pooling2d_8 (MaxPooling2 (None, 9, 9, 256)         0         \n",
      "_________________________________________________________________\n",
      "conv2d_9 (Conv2D)            (None, 7, 7, 512)         1180160   \n",
      "_________________________________________________________________\n",
      "max_pooling2d_9 (MaxPooling2 (None, 3, 3, 512)         0         \n",
      "_________________________________________________________________\n",
      "flatten_1 (Flatten)          (None, 4608)              0         \n",
      "_________________________________________________________________\n",
      "dense_1 (Dense)              (None, 1)                 4609      \n",
      "=================================================================\n",
      "Total params: 1,573,185\n",
      "Trainable params: 1,573,185\n",
      "Non-trainable params: 0\n",
      "_________________________________________________________________\n",
      "\n",
      "\n",
      "\n",
      "\n"
     ]
    }
   ],
   "source": [
    "inputs = keras.Input(shape = (180, 180, 3))\n",
    "x = data_aug(inputs)\n",
    "\n",
    "x = layers.experimental.preprocessing.Rescaling(1./255)(inputs)\n",
    "x = layers.Conv2D(filters=32, kernel_size=3, activation='relu')(x)\n",
    "x = layers.MaxPooling2D(pool_size=2)(x)\n",
    "x = layers.Conv2D(filters=64, kernel_size=3, activation='relu')(x)\n",
    "x = layers.MaxPooling2D(pool_size=2)(x)\n",
    "x = layers.Conv2D(filters=128, kernel_size=3, activation='relu')(x)\n",
    "x = layers.MaxPooling2D(pool_size=2)(x)\n",
    "x = layers.Conv2D(filters=256, kernel_size=3, activation='relu')(x)\n",
    "x = layers.MaxPooling2D(pool_size=2)(x)\n",
    "x = layers.Conv2D(filters=512, kernel_size=3, activation='relu')(x)\n",
    "x = layers.MaxPooling2D(pool_size=2)(x)\n",
    "x = layers.Flatten()(x)\n",
    "\n",
    "outputs=layers.Dense(1, activation='sigmoid')(x)\n",
    "model = keras.Model(inputs=inputs, outputs=outputs)\n",
    "\n",
    "model.compile(optimizer='adam', loss='binary_crossentropy', metrics=['accuracy'])\n",
    "model.summary()\n",
    "print('\\n\\n\\n')"
   ]
  },
  {
   "cell_type": "code",
   "execution_count": 12,
   "id": "7a32e89d",
   "metadata": {},
   "outputs": [
    {
     "name": "stdout",
     "output_type": "stream",
     "text": [
      "Epoch 1/10\n",
      "63/63 [==============================] - 40s 614ms/step - loss: 0.6911 - accuracy: 0.5245 - val_loss: 0.6821 - val_accuracy: 0.5710\n",
      "Epoch 2/10\n",
      "63/63 [==============================] - 38s 607ms/step - loss: 0.6778 - accuracy: 0.5780 - val_loss: 0.6600 - val_accuracy: 0.6250\n",
      "Epoch 3/10\n",
      "63/63 [==============================] - 38s 609ms/step - loss: 0.6455 - accuracy: 0.6460 - val_loss: 0.6556 - val_accuracy: 0.6090\n",
      "Epoch 4/10\n",
      "63/63 [==============================] - 39s 618ms/step - loss: 0.6256 - accuracy: 0.6470 - val_loss: 0.6192 - val_accuracy: 0.6560\n",
      "Epoch 5/10\n",
      "63/63 [==============================] - 39s 616ms/step - loss: 0.5859 - accuracy: 0.6815 - val_loss: 0.6510 - val_accuracy: 0.6650\n",
      "Epoch 6/10\n",
      "63/63 [==============================] - 39s 619ms/step - loss: 0.5359 - accuracy: 0.7290 - val_loss: 0.6015 - val_accuracy: 0.7040\n",
      "Epoch 7/10\n",
      "63/63 [==============================] - 39s 619ms/step - loss: 0.4741 - accuracy: 0.7685 - val_loss: 0.7594 - val_accuracy: 0.6370\n",
      "Epoch 8/10\n",
      "63/63 [==============================] - 39s 620ms/step - loss: 0.4031 - accuracy: 0.8180 - val_loss: 0.6784 - val_accuracy: 0.6950\n",
      "Epoch 9/10\n",
      "63/63 [==============================] - 40s 639ms/step - loss: 0.3222 - accuracy: 0.8605 - val_loss: 0.7524 - val_accuracy: 0.7100\n",
      "Epoch 10/10\n",
      "63/63 [==============================] - 41s 643ms/step - loss: 0.2210 - accuracy: 0.9055 - val_loss: 0.9876 - val_accuracy: 0.6640\n"
     ]
    }
   ],
   "source": [
    "history = model.fit(train_dataset, epochs=10, validation_data=val_dataset, callbacks=callbacks)"
   ]
  },
  {
   "cell_type": "code",
   "execution_count": 13,
   "id": "a3459a4a",
   "metadata": {},
   "outputs": [
    {
     "name": "stdout",
     "output_type": "stream",
     "text": [
      "63/63 [==============================] - 9s 138ms/step - loss: 0.5982 - accuracy: 0.6940\n",
      "0.6940000057220459\n"
     ]
    }
   ],
   "source": [
    "test_model = keras.models.load_model(\"catsvsdogs_convnet.keras\")\n",
    "test_loss, test_acc = test_model.evaluate(test_dataset)\n",
    "print(test_acc)"
   ]
  },
  {
   "cell_type": "markdown",
   "id": "fbeffc55",
   "metadata": {},
   "source": [
    "# USING TRANSFER LEARNING (VGG16 MODEL)"
   ]
  },
  {
   "cell_type": "code",
   "execution_count": 14,
   "id": "8f160221",
   "metadata": {},
   "outputs": [],
   "source": [
    "conv_base = keras.applications.vgg16.VGG16(weights='imagenet',\n",
    "                                         include_top=False,\n",
    "                                         input_shape=(180, 180, 3))"
   ]
  },
  {
   "cell_type": "code",
   "execution_count": 15,
   "id": "5668e24b",
   "metadata": {},
   "outputs": [
    {
     "name": "stdout",
     "output_type": "stream",
     "text": [
      "Model: \"vgg16\"\n",
      "_________________________________________________________________\n",
      "Layer (type)                 Output Shape              Param #   \n",
      "=================================================================\n",
      "input_3 (InputLayer)         [(None, 180, 180, 3)]     0         \n",
      "_________________________________________________________________\n",
      "block1_conv1 (Conv2D)        (None, 180, 180, 64)      1792      \n",
      "_________________________________________________________________\n",
      "block1_conv2 (Conv2D)        (None, 180, 180, 64)      36928     \n",
      "_________________________________________________________________\n",
      "block1_pool (MaxPooling2D)   (None, 90, 90, 64)        0         \n",
      "_________________________________________________________________\n",
      "block2_conv1 (Conv2D)        (None, 90, 90, 128)       73856     \n",
      "_________________________________________________________________\n",
      "block2_conv2 (Conv2D)        (None, 90, 90, 128)       147584    \n",
      "_________________________________________________________________\n",
      "block2_pool (MaxPooling2D)   (None, 45, 45, 128)       0         \n",
      "_________________________________________________________________\n",
      "block3_conv1 (Conv2D)        (None, 45, 45, 256)       295168    \n",
      "_________________________________________________________________\n",
      "block3_conv2 (Conv2D)        (None, 45, 45, 256)       590080    \n",
      "_________________________________________________________________\n",
      "block3_conv3 (Conv2D)        (None, 45, 45, 256)       590080    \n",
      "_________________________________________________________________\n",
      "block3_pool (MaxPooling2D)   (None, 22, 22, 256)       0         \n",
      "_________________________________________________________________\n",
      "block4_conv1 (Conv2D)        (None, 22, 22, 512)       1180160   \n",
      "_________________________________________________________________\n",
      "block4_conv2 (Conv2D)        (None, 22, 22, 512)       2359808   \n",
      "_________________________________________________________________\n",
      "block4_conv3 (Conv2D)        (None, 22, 22, 512)       2359808   \n",
      "_________________________________________________________________\n",
      "block4_pool (MaxPooling2D)   (None, 11, 11, 512)       0         \n",
      "_________________________________________________________________\n",
      "block5_conv1 (Conv2D)        (None, 11, 11, 512)       2359808   \n",
      "_________________________________________________________________\n",
      "block5_conv2 (Conv2D)        (None, 11, 11, 512)       2359808   \n",
      "_________________________________________________________________\n",
      "block5_conv3 (Conv2D)        (None, 11, 11, 512)       2359808   \n",
      "_________________________________________________________________\n",
      "block5_pool (MaxPooling2D)   (None, 5, 5, 512)         0         \n",
      "=================================================================\n",
      "Total params: 14,714,688\n",
      "Trainable params: 14,714,688\n",
      "Non-trainable params: 0\n",
      "_________________________________________________________________\n"
     ]
    }
   ],
   "source": [
    "conv_base.summary()"
   ]
  },
  {
   "cell_type": "code",
   "execution_count": 16,
   "id": "c1a449b0",
   "metadata": {},
   "outputs": [],
   "source": [
    "#Fast technique: Extracting features and labels, running as a normal ML model without data augmentation\n",
    "\n",
    "import numpy as np\n",
    "\n",
    "def get_features_and_labels(dataset):\n",
    "    all_features = []\n",
    "    all_labels = []\n",
    "    for images, labels in dataset:\n",
    "        preprocessed_images = keras.applications.vgg16.preprocess_input(images)\n",
    "        features = conv_base.predict(preprocessed_images)\n",
    "        all_features.append(features)\n",
    "        all_labels.append(labels)\n",
    "    return np.concatenate(all_features), np.concatenate(all_labels)"
   ]
  },
  {
   "cell_type": "code",
   "execution_count": 17,
   "id": "32039a93",
   "metadata": {},
   "outputs": [],
   "source": [
    "train_features, train_labels = get_features_and_labels(train_dataset)\n",
    "test_features, test_labels = get_features_and_labels(test_dataset)\n",
    "val_features, val_labels = get_features_and_labels(val_dataset)"
   ]
  },
  {
   "cell_type": "code",
   "execution_count": 18,
   "id": "cca38d02",
   "metadata": {},
   "outputs": [
    {
     "data": {
      "text/plain": [
       "(2000, 5, 5, 512)"
      ]
     },
     "execution_count": 18,
     "metadata": {},
     "output_type": "execute_result"
    }
   ],
   "source": [
    "train_features.shape"
   ]
  },
  {
   "cell_type": "code",
   "execution_count": 19,
   "id": "f16b0d43",
   "metadata": {},
   "outputs": [],
   "source": [
    "#Defining and training densely connected classifier\n",
    "\n",
    "inputs = keras.Input(shape=(5,5,512))\n",
    "x = layers.Flatten()(inputs)\n",
    "x = layers.Dense(256)(x)\n",
    "x = layers.Dropout(0.5)(x)\n",
    "\n",
    "outputs = layers.Dense(1, activation='sigmoid')(x)\n",
    "model = keras.Model(inputs, outputs)\n",
    "\n",
    "model.compile(loss=\"binary_crossentropy\", optimizer=\"rmsprop\", metrics=[\"accuracy\"])\n",
    "\n",
    "callbacks = [keras.callbacks.ModelCheckpoint(\n",
    "     filepath=\"feature_extraction.keras\",\n",
    "     save_best_only=True,\n",
    "     monitor=\"val_loss\")]"
   ]
  },
  {
   "cell_type": "code",
   "execution_count": null,
   "id": "6a1c1be7",
   "metadata": {},
   "outputs": [],
   "source": [
    "\n",
    "history = model.fit(\n",
    " train_features, train_labels,\n",
    " epochs=20,\n",
    " validation_data=(val_features, val_labels),\n",
    " callbacks=callbacks)"
   ]
  },
  {
   "cell_type": "code",
   "execution_count": 29,
   "id": "c7564040",
   "metadata": {},
   "outputs": [
    {
     "data": {
      "image/png": "[encoded data removed]",
      "text/plain": [
       "<Figure size 432x288 with 1 Axes>"
      ]
     },
     "metadata": {
      "needs_background": "light"
     },
     "output_type": "display_data"
    },
    {
     "data": {
      "image/png": "[encoded data removed]",
      "text/plain": [
       "<Figure size 432x288 with 1 Axes>"
      ]
     },
     "metadata": {
      "needs_background": "light"
     },
     "output_type": "display_data"
    }
   ],
   "source": [
    "import matplotlib.pyplot as plt\n",
    "acc = history.history[\"accuracy\"]\n",
    "val_acc = history.history[\"val_accuracy\"]\n",
    "loss = history.history[\"loss\"]\n",
    "val_loss = history.history[\"val_loss\"]\n",
    "epochs = range(1, len(acc) + 1)\n",
    "plt.plot(epochs, acc, \"bo\", label=\"Training accuracy\")\n",
    "plt.plot(epochs, val_acc, \"b\", label=\"Validation accuracy\")\n",
    "plt.title(\"Training and validation accuracy\")\n",
    "plt.legend()\n",
    "plt.figure()\n",
    "plt.plot(epochs, loss, \"bo\", label=\"Training loss\")\n",
    "plt.plot(epochs, val_loss, \"b\", label=\"Validation loss\")\n",
    "plt.title(\"Training and validation loss\")\n",
    "plt.legend()\n",
    "plt.show()"
   ]
  },
  {
   "cell_type": "code",
   "execution_count": 30,
   "id": "e20c372e",
   "metadata": {},
   "outputs": [],
   "source": [
    "#There is still overfitting => use data aug"
   ]
  },
  {
   "cell_type": "code",
   "execution_count": 20,
   "id": "02ccea86",
   "metadata": {},
   "outputs": [],
   "source": [
    "conv_base = keras.applications.vgg16.VGG16(weights='imagenet',\n",
    "                                          include_top=False)\n",
    "conv_base.trainable = False #Freezes weights, so that there's no modeification of already learned weights"
   ]
  },
  {
   "cell_type": "code",
   "execution_count": 21,
   "id": "1e232737",
   "metadata": {},
   "outputs": [],
   "source": [
    "inputs = keras.Input(shape=(180,180,3))\n",
    "x = data_aug(inputs)\n",
    "x = keras.applications.vgg16.preprocess_input(x)\n",
    "x = conv_base(x)\n",
    "x = layers.Flatten()(x)\n",
    "x = layers.Dense(256)(x)\n",
    "x = layers.Dropout(0.5)(x)\n",
    "\n",
    "outputs = layers.Dense(1, activation='sigmoid')(x)\n",
    "model = keras.Model(inputs, outputs)\n",
    "\n",
    "model.compile(loss=\"binary_crossentropy\", optimizer=\"rmsprop\", metrics=[\"accuracy\"])\n",
    "\n",
    "callbacks = [keras.callbacks.ModelCheckpoint(\n",
    "     filepath=\"feature_extraction_with_aug.keras\",\n",
    "     save_best_only=True,\n",
    "     monitor=\"val_loss\")]"
   ]
  },
  {
   "cell_type": "code",
   "execution_count": null,
   "id": "80935ffd",
   "metadata": {},
   "outputs": [],
   "source": [
    "\n",
    "history = model.fit(\n",
    " train_dataset,\n",
    " epochs=10,\n",
    " validation_data=val_dataset,\n",
    " callbacks=callbacks)"
   ]
  },
  {
   "cell_type": "markdown",
   "id": "a899a87d",
   "metadata": {},
   "source": [
    "# FINE-TUNING PRE-TRAINED MODEL\n",
    "\n",
    "Unfreezing weights of some top layers (closest to dense fc layer/s) so that they can be trained "
   ]
  },
  {
   "cell_type": "code",
   "execution_count": 22,
   "id": "a7e3e431",
   "metadata": {},
   "outputs": [
    {
     "name": "stdout",
     "output_type": "stream",
     "text": [
      "Model: \"vgg16\"\n",
      "_________________________________________________________________\n",
      "Layer (type)                 Output Shape              Param #   \n",
      "=================================================================\n",
      "input_5 (InputLayer)         [(None, None, None, 3)]   0         \n",
      "_________________________________________________________________\n",
      "block1_conv1 (Conv2D)        (None, None, None, 64)    1792      \n",
      "_________________________________________________________________\n",
      "block1_conv2 (Conv2D)        (None, None, None, 64)    36928     \n",
      "_________________________________________________________________\n",
      "block1_pool (MaxPooling2D)   (None, None, None, 64)    0         \n",
      "_________________________________________________________________\n",
      "block2_conv1 (Conv2D)        (None, None, None, 128)   73856     \n",
      "_________________________________________________________________\n",
      "block2_conv2 (Conv2D)        (None, None, None, 128)   147584    \n",
      "_________________________________________________________________\n",
      "block2_pool (MaxPooling2D)   (None, None, None, 128)   0         \n",
      "_________________________________________________________________\n",
      "block3_conv1 (Conv2D)        (None, None, None, 256)   295168    \n",
      "_________________________________________________________________\n",
      "block3_conv2 (Conv2D)        (None, None, None, 256)   590080    \n",
      "_________________________________________________________________\n",
      "block3_conv3 (Conv2D)        (None, None, None, 256)   590080    \n",
      "_________________________________________________________________\n",
      "block3_pool (MaxPooling2D)   (None, None, None, 256)   0         \n",
      "_________________________________________________________________\n",
      "block4_conv1 (Conv2D)        (None, None, None, 512)   1180160   \n",
      "_________________________________________________________________\n",
      "block4_conv2 (Conv2D)        (None, None, None, 512)   2359808   \n",
      "_________________________________________________________________\n",
      "block4_conv3 (Conv2D)        (None, None, None, 512)   2359808   \n",
      "_________________________________________________________________\n",
      "block4_pool (MaxPooling2D)   (None, None, None, 512)   0         \n",
      "_________________________________________________________________\n",
      "block5_conv1 (Conv2D)        (None, None, None, 512)   2359808   \n",
      "_________________________________________________________________\n",
      "block5_conv2 (Conv2D)        (None, None, None, 512)   2359808   \n",
      "_________________________________________________________________\n",
      "block5_conv3 (Conv2D)        (None, None, None, 512)   2359808   \n",
      "_________________________________________________________________\n",
      "block5_pool (MaxPooling2D)   (None, None, None, 512)   0         \n",
      "=================================================================\n",
      "Total params: 14,714,688\n",
      "Trainable params: 0\n",
      "Non-trainable params: 14,714,688\n",
      "_________________________________________________________________\n"
     ]
    }
   ],
   "source": [
    "#for example:\n",
    "conv_base.summary()"
   ]
  },
  {
   "cell_type": "markdown",
   "id": "6ed71608",
   "metadata": {},
   "source": [
    "We unfreeze and retrain all the layers of block 5"
   ]
  },
  {
   "cell_type": "code",
   "execution_count": 23,
   "id": "1c2a97a0",
   "metadata": {},
   "outputs": [],
   "source": [
    "conv_base.trainable = True\n",
    "for layer in conv_base.layers[:-4]:\n",
    "    layer.trainable = False"
   ]
  },
  {
   "cell_type": "code",
   "execution_count": 26,
   "id": "1d15ca0a",
   "metadata": {},
   "outputs": [
    {
     "name": "stdout",
     "output_type": "stream",
     "text": [
      "Epoch 1/5\n",
      "63/63 [==============================] - 130s 2s/step - loss: 4.1673 - accuracy: 0.7365 - val_loss: 0.7031 - val_accuracy: 0.9320\n",
      "Epoch 2/5\n",
      "63/63 [==============================] - 128s 2s/step - loss: 1.2063 - accuracy: 0.8840 - val_loss: 0.3509 - val_accuracy: 0.9440\n",
      "Epoch 3/5\n",
      "63/63 [==============================] - 132s 2s/step - loss: 0.5541 - accuracy: 0.9120 - val_loss: 0.2583 - val_accuracy: 0.9570\n",
      "Epoch 4/5\n",
      "63/63 [==============================] - 131s 2s/step - loss: 0.4982 - accuracy: 0.9170 - val_loss: 0.2210 - val_accuracy: 0.9590\n",
      "Epoch 5/5\n",
      "63/63 [==============================] - 133s 2s/step - loss: 0.3201 - accuracy: 0.9340 - val_loss: 0.2101 - val_accuracy: 0.9460\n"
     ]
    }
   ],
   "source": [
    "model.compile(loss=\"binary_crossentropy\", optimizer=keras.optimizers.RMSprop(learning_rate=1e-5), metrics=[\"accuracy\"])\n",
    "\n",
    "callbacks = [\n",
    " keras.callbacks.ModelCheckpoint(\n",
    " filepath=\"fine_tuning.keras\",\n",
    " save_best_only=True,\n",
    " monitor=\"val_loss\")\n",
    "]\n",
    "\n",
    "history = model.fit(\n",
    " train_dataset,\n",
    " epochs=5,\n",
    " validation_data=val_dataset,\n",
    " callbacks=callbacks)"
   ]
  },
  {
   "cell_type": "code",
   "execution_count": 27,
   "id": "3bcf895d",
   "metadata": {},
   "outputs": [
    {
     "name": "stdout",
     "output_type": "stream",
     "text": [
      "63/63 [==============================] - 72s 1s/step - loss: 0.2189 - accuracy: 0.9610\n",
      "Test accuracy: 0.961\n"
     ]
    }
   ],
   "source": [
    "model = keras.models.load_model(\"fine_tuning.keras\")\n",
    "test_loss, test_acc = model.evaluate(test_dataset) \n",
    "print(f\"Test accuracy: {test_acc:.3f}\")"
   ]
  },
  {
   "cell_type": "code",
   "execution_count": null,
   "id": "c890f744",
   "metadata": {},
   "outputs": [],
   "source": []
  }
 ],
 "metadata": {
  "kernelspec": {
   "display_name": "Python 3 (ipykernel)",
   "language": "python",
   "name": "python3"
  },
  "language_info": {
   "codemirror_mode": {
    "name": "ipython",
    "version": 3
   },
   "file_extension": ".py",
   "mimetype": "text/x-python",
   "name": "python",
   "nbconvert_exporter": "python",
   "pygments_lexer": "ipython3",
   "version": "3.8.13"
  }
 },
 "nbformat": 4,
 "nbformat_minor": 5
}
